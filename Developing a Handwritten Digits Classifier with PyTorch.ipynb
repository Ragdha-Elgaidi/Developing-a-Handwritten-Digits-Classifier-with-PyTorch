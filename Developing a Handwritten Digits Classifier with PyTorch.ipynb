{
 "cells": [
  {
   "cell_type": "markdown",
   "metadata": {},
   "source": [
    "# Introduction\n",
    "\n",
    "In this project, you will build a neural network of your own design to evaluate the MNIST dataset.\n",
    "\n",
    "Some of the benchmark results on MNIST include can be found [on Yann LeCun's page](http://yann.lecun.com/exdb/mnist/) and include:\n",
    "\n",
    "88% [Lecun et al., 1998](http://yann.lecun.com/exdb/publis/pdf/lecun-98.pdf)\n",
    "95.3% [Lecun et al., 1998](http://yann.lecun.com/exdb/publis/pdf/lecun-98.pdf)\n",
    "99.65% [Ciresan et al., 2011](http://people.idsia.ch/~juergen/ijcai2011.pdf)\n",
    "\n",
    "MNIST is a great dataset for sanity checking your models, since the accuracy levels achieved by large convolutional neural networks and small linear models are both quite high. This makes it important to be familiar with the data.\n",
    "\n",
    "## Imports"
   ]
  },
  {
   "cell_type": "code",
   "execution_count": 7,
   "metadata": {},
   "outputs": [
    {
     "name": "stderr",
     "output_type": "stream",
     "text": [
      "Matplotlib is building the font cache; this may take a moment.\n"
     ]
    }
   ],
   "source": [
    "## This cell contains the essential imports you will need – DO NOT CHANGE THE CONTENTS! ##\n",
    "import torch\n",
    "import torch.nn as nn\n",
    "import torch.nn.functional as F\n",
    "import torch.optim as optim\n",
    "import torchvision\n",
    "import torchvision.transforms as transforms\n",
    "import matplotlib.pyplot as plt\n",
    "import numpy as np"
   ]
  },
  {
   "cell_type": "code",
   "execution_count": 27,
   "metadata": {},
   "outputs": [
    {
     "data": {
      "text/plain": [
       "device(type='cpu')"
      ]
     },
     "execution_count": 27,
     "metadata": {},
     "output_type": "execute_result"
    }
   ],
   "source": [
    "device = torch.device('cuda' if torch.cuda.is_available() else 'cpu')\n",
    "device"
   ]
  },
  {
   "cell_type": "code",
   "execution_count": 3,
   "metadata": {},
   "outputs": [
    {
     "name": "stdout",
     "output_type": "stream",
     "text": [
      "Requirement already satisfied: jupyter in /home/ec2-user/anaconda3/envs/pytorch_p310/lib/python3.10/site-packages (1.0.0)\n",
      "Requirement already satisfied: notebook in /home/ec2-user/anaconda3/envs/pytorch_p310/lib/python3.10/site-packages (from jupyter) (6.5.4)\n",
      "Requirement already satisfied: qtconsole in /home/ec2-user/anaconda3/envs/pytorch_p310/lib/python3.10/site-packages (from jupyter) (5.4.3)\n",
      "Requirement already satisfied: jupyter-console in /home/ec2-user/anaconda3/envs/pytorch_p310/lib/python3.10/site-packages (from jupyter) (6.6.3)\n",
      "Requirement already satisfied: nbconvert in /home/ec2-user/anaconda3/envs/pytorch_p310/lib/python3.10/site-packages (from jupyter) (7.7.1)\n",
      "Requirement already satisfied: ipykernel in /home/ec2-user/anaconda3/envs/pytorch_p310/lib/python3.10/site-packages (from jupyter) (6.24.0)\n",
      "Requirement already satisfied: ipywidgets in /home/ec2-user/anaconda3/envs/pytorch_p310/lib/python3.10/site-packages (from jupyter) (8.0.7)\n",
      "Requirement already satisfied: comm>=0.1.1 in /home/ec2-user/anaconda3/envs/pytorch_p310/lib/python3.10/site-packages (from ipykernel->jupyter) (0.1.3)\n",
      "Requirement already satisfied: debugpy>=1.6.5 in /home/ec2-user/anaconda3/envs/pytorch_p310/lib/python3.10/site-packages (from ipykernel->jupyter) (1.6.7)\n",
      "Requirement already satisfied: ipython>=7.23.1 in /home/ec2-user/anaconda3/envs/pytorch_p310/lib/python3.10/site-packages (from ipykernel->jupyter) (8.14.0)\n",
      "Requirement already satisfied: jupyter-client>=6.1.12 in /home/ec2-user/anaconda3/envs/pytorch_p310/lib/python3.10/site-packages (from ipykernel->jupyter) (8.3.0)\n",
      "Requirement already satisfied: jupyter-core!=5.0.*,>=4.12 in /home/ec2-user/anaconda3/envs/pytorch_p310/lib/python3.10/site-packages (from ipykernel->jupyter) (5.3.1)\n",
      "Requirement already satisfied: matplotlib-inline>=0.1 in /home/ec2-user/anaconda3/envs/pytorch_p310/lib/python3.10/site-packages (from ipykernel->jupyter) (0.1.6)\n",
      "Requirement already satisfied: nest-asyncio in /home/ec2-user/anaconda3/envs/pytorch_p310/lib/python3.10/site-packages (from ipykernel->jupyter) (1.5.5)\n",
      "Requirement already satisfied: packaging in /home/ec2-user/anaconda3/envs/pytorch_p310/lib/python3.10/site-packages (from ipykernel->jupyter) (21.3)\n",
      "Requirement already satisfied: psutil in /home/ec2-user/anaconda3/envs/pytorch_p310/lib/python3.10/site-packages (from ipykernel->jupyter) (5.9.5)\n",
      "Requirement already satisfied: pyzmq>=20 in /home/ec2-user/anaconda3/envs/pytorch_p310/lib/python3.10/site-packages (from ipykernel->jupyter) (25.1.0)\n",
      "Requirement already satisfied: tornado>=6.1 in /home/ec2-user/anaconda3/envs/pytorch_p310/lib/python3.10/site-packages (from ipykernel->jupyter) (6.3.2)\n",
      "Requirement already satisfied: traitlets>=5.4.0 in /home/ec2-user/anaconda3/envs/pytorch_p310/lib/python3.10/site-packages (from ipykernel->jupyter) (5.9.0)\n",
      "Requirement already satisfied: widgetsnbextension~=4.0.7 in /home/ec2-user/anaconda3/envs/pytorch_p310/lib/python3.10/site-packages (from ipywidgets->jupyter) (4.0.8)\n",
      "Requirement already satisfied: jupyterlab-widgets~=3.0.7 in /home/ec2-user/anaconda3/envs/pytorch_p310/lib/python3.10/site-packages (from ipywidgets->jupyter) (3.0.8)\n",
      "Requirement already satisfied: prompt-toolkit>=3.0.30 in /home/ec2-user/anaconda3/envs/pytorch_p310/lib/python3.10/site-packages (from jupyter-console->jupyter) (3.0.39)\n",
      "Requirement already satisfied: pygments in /home/ec2-user/anaconda3/envs/pytorch_p310/lib/python3.10/site-packages (from jupyter-console->jupyter) (2.15.1)\n",
      "Requirement already satisfied: beautifulsoup4 in /home/ec2-user/anaconda3/envs/pytorch_p310/lib/python3.10/site-packages (from nbconvert->jupyter) (4.12.2)\n",
      "Requirement already satisfied: bleach!=5.0.0 in /home/ec2-user/anaconda3/envs/pytorch_p310/lib/python3.10/site-packages (from nbconvert->jupyter) (6.0.0)\n",
      "Requirement already satisfied: defusedxml in /home/ec2-user/anaconda3/envs/pytorch_p310/lib/python3.10/site-packages (from nbconvert->jupyter) (0.7.1)\n",
      "Requirement already satisfied: jinja2>=3.0 in /home/ec2-user/anaconda3/envs/pytorch_p310/lib/python3.10/site-packages (from nbconvert->jupyter) (3.1.2)\n",
      "Requirement already satisfied: jupyterlab-pygments in /home/ec2-user/anaconda3/envs/pytorch_p310/lib/python3.10/site-packages (from nbconvert->jupyter) (0.2.2)\n",
      "Requirement already satisfied: markupsafe>=2.0 in /home/ec2-user/anaconda3/envs/pytorch_p310/lib/python3.10/site-packages (from nbconvert->jupyter) (2.1.3)\n",
      "Requirement already satisfied: mistune<4,>=2.0.3 in /home/ec2-user/anaconda3/envs/pytorch_p310/lib/python3.10/site-packages (from nbconvert->jupyter) (3.0.0)\n",
      "Requirement already satisfied: nbclient>=0.5.0 in /home/ec2-user/anaconda3/envs/pytorch_p310/lib/python3.10/site-packages (from nbconvert->jupyter) (0.8.0)\n",
      "Requirement already satisfied: nbformat>=5.7 in /home/ec2-user/anaconda3/envs/pytorch_p310/lib/python3.10/site-packages (from nbconvert->jupyter) (5.9.1)\n",
      "Requirement already satisfied: pandocfilters>=1.4.1 in /home/ec2-user/anaconda3/envs/pytorch_p310/lib/python3.10/site-packages (from nbconvert->jupyter) (1.5.0)\n",
      "Requirement already satisfied: tinycss2 in /home/ec2-user/anaconda3/envs/pytorch_p310/lib/python3.10/site-packages (from nbconvert->jupyter) (1.2.1)\n",
      "Requirement already satisfied: argon2-cffi in /home/ec2-user/anaconda3/envs/pytorch_p310/lib/python3.10/site-packages (from notebook->jupyter) (21.3.0)\n",
      "Requirement already satisfied: ipython-genutils in /home/ec2-user/anaconda3/envs/pytorch_p310/lib/python3.10/site-packages (from notebook->jupyter) (0.2.0)\n",
      "Requirement already satisfied: Send2Trash>=1.8.0 in /home/ec2-user/anaconda3/envs/pytorch_p310/lib/python3.10/site-packages (from notebook->jupyter) (1.8.2)\n",
      "Requirement already satisfied: terminado>=0.8.3 in /home/ec2-user/anaconda3/envs/pytorch_p310/lib/python3.10/site-packages (from notebook->jupyter) (0.17.1)\n",
      "Requirement already satisfied: prometheus-client in /home/ec2-user/anaconda3/envs/pytorch_p310/lib/python3.10/site-packages (from notebook->jupyter) (0.17.1)\n",
      "Requirement already satisfied: nbclassic>=0.4.7 in /home/ec2-user/anaconda3/envs/pytorch_p310/lib/python3.10/site-packages (from notebook->jupyter) (1.0.0)\n",
      "Requirement already satisfied: qtpy>=2.0.1 in /home/ec2-user/anaconda3/envs/pytorch_p310/lib/python3.10/site-packages (from qtconsole->jupyter) (2.3.1)\n",
      "Requirement already satisfied: six>=1.9.0 in /home/ec2-user/anaconda3/envs/pytorch_p310/lib/python3.10/site-packages (from bleach!=5.0.0->nbconvert->jupyter) (1.16.0)\n",
      "Requirement already satisfied: webencodings in /home/ec2-user/anaconda3/envs/pytorch_p310/lib/python3.10/site-packages (from bleach!=5.0.0->nbconvert->jupyter) (0.5.1)\n",
      "Requirement already satisfied: backcall in /home/ec2-user/anaconda3/envs/pytorch_p310/lib/python3.10/site-packages (from ipython>=7.23.1->ipykernel->jupyter) (0.2.0)\n",
      "Requirement already satisfied: decorator in /home/ec2-user/anaconda3/envs/pytorch_p310/lib/python3.10/site-packages (from ipython>=7.23.1->ipykernel->jupyter) (5.1.1)\n",
      "Requirement already satisfied: jedi>=0.16 in /home/ec2-user/anaconda3/envs/pytorch_p310/lib/python3.10/site-packages (from ipython>=7.23.1->ipykernel->jupyter) (0.18.2)\n",
      "Requirement already satisfied: pickleshare in /home/ec2-user/anaconda3/envs/pytorch_p310/lib/python3.10/site-packages (from ipython>=7.23.1->ipykernel->jupyter) (0.7.5)\n",
      "Requirement already satisfied: stack-data in /home/ec2-user/anaconda3/envs/pytorch_p310/lib/python3.10/site-packages (from ipython>=7.23.1->ipykernel->jupyter) (0.6.2)\n",
      "Requirement already satisfied: pexpect>4.3 in /home/ec2-user/anaconda3/envs/pytorch_p310/lib/python3.10/site-packages (from ipython>=7.23.1->ipykernel->jupyter) (4.8.0)\n",
      "Requirement already satisfied: python-dateutil>=2.8.2 in /home/ec2-user/anaconda3/envs/pytorch_p310/lib/python3.10/site-packages (from jupyter-client>=6.1.12->ipykernel->jupyter) (2.8.2)\n",
      "Requirement already satisfied: platformdirs>=2.5 in /home/ec2-user/anaconda3/envs/pytorch_p310/lib/python3.10/site-packages (from jupyter-core!=5.0.*,>=4.12->ipykernel->jupyter) (3.9.1)\n",
      "Requirement already satisfied: jupyter-server>=1.8 in /home/ec2-user/anaconda3/envs/pytorch_p310/lib/python3.10/site-packages (from nbclassic>=0.4.7->notebook->jupyter) (2.7.0)\n",
      "Requirement already satisfied: notebook-shim>=0.2.3 in /home/ec2-user/anaconda3/envs/pytorch_p310/lib/python3.10/site-packages (from nbclassic>=0.4.7->notebook->jupyter) (0.2.3)\n",
      "Requirement already satisfied: fastjsonschema in /home/ec2-user/anaconda3/envs/pytorch_p310/lib/python3.10/site-packages (from nbformat>=5.7->nbconvert->jupyter) (2.17.1)\n",
      "Requirement already satisfied: jsonschema>=2.6 in /home/ec2-user/anaconda3/envs/pytorch_p310/lib/python3.10/site-packages (from nbformat>=5.7->nbconvert->jupyter) (4.18.4)\n",
      "Requirement already satisfied: wcwidth in /home/ec2-user/anaconda3/envs/pytorch_p310/lib/python3.10/site-packages (from prompt-toolkit>=3.0.30->jupyter-console->jupyter) (0.2.6)\n",
      "Requirement already satisfied: ptyprocess in /home/ec2-user/anaconda3/envs/pytorch_p310/lib/python3.10/site-packages (from terminado>=0.8.3->notebook->jupyter) (0.7.0)\n",
      "Requirement already satisfied: argon2-cffi-bindings in /home/ec2-user/anaconda3/envs/pytorch_p310/lib/python3.10/site-packages (from argon2-cffi->notebook->jupyter) (21.2.0)\n",
      "Requirement already satisfied: soupsieve>1.2 in /home/ec2-user/anaconda3/envs/pytorch_p310/lib/python3.10/site-packages (from beautifulsoup4->nbconvert->jupyter) (2.3.2.post1)\n",
      "Requirement already satisfied: pyparsing!=3.0.5,>=2.0.2 in /home/ec2-user/anaconda3/envs/pytorch_p310/lib/python3.10/site-packages (from packaging->ipykernel->jupyter) (3.0.9)\n",
      "Requirement already satisfied: parso<0.9.0,>=0.8.0 in /home/ec2-user/anaconda3/envs/pytorch_p310/lib/python3.10/site-packages (from jedi>=0.16->ipython>=7.23.1->ipykernel->jupyter) (0.8.3)\n",
      "Requirement already satisfied: attrs>=22.2.0 in /home/ec2-user/anaconda3/envs/pytorch_p310/lib/python3.10/site-packages (from jsonschema>=2.6->nbformat>=5.7->nbconvert->jupyter) (23.1.0)\n",
      "Requirement already satisfied: jsonschema-specifications>=2023.03.6 in /home/ec2-user/anaconda3/envs/pytorch_p310/lib/python3.10/site-packages (from jsonschema>=2.6->nbformat>=5.7->nbconvert->jupyter) (2023.7.1)\n",
      "Requirement already satisfied: referencing>=0.28.4 in /home/ec2-user/anaconda3/envs/pytorch_p310/lib/python3.10/site-packages (from jsonschema>=2.6->nbformat>=5.7->nbconvert->jupyter) (0.30.0)\n",
      "Requirement already satisfied: rpds-py>=0.7.1 in /home/ec2-user/anaconda3/envs/pytorch_p310/lib/python3.10/site-packages (from jsonschema>=2.6->nbformat>=5.7->nbconvert->jupyter) (0.9.2)\n",
      "Requirement already satisfied: anyio>=3.1.0 in /home/ec2-user/anaconda3/envs/pytorch_p310/lib/python3.10/site-packages (from jupyter-server>=1.8->nbclassic>=0.4.7->notebook->jupyter) (3.7.1)\n",
      "Requirement already satisfied: jupyter-events>=0.6.0 in /home/ec2-user/anaconda3/envs/pytorch_p310/lib/python3.10/site-packages (from jupyter-server>=1.8->nbclassic>=0.4.7->notebook->jupyter) (0.6.3)\n",
      "Requirement already satisfied: jupyter-server-terminals in /home/ec2-user/anaconda3/envs/pytorch_p310/lib/python3.10/site-packages (from jupyter-server>=1.8->nbclassic>=0.4.7->notebook->jupyter) (0.4.4)\n",
      "Requirement already satisfied: overrides in /home/ec2-user/anaconda3/envs/pytorch_p310/lib/python3.10/site-packages (from jupyter-server>=1.8->nbclassic>=0.4.7->notebook->jupyter) (7.3.1)\n",
      "Requirement already satisfied: websocket-client in /home/ec2-user/anaconda3/envs/pytorch_p310/lib/python3.10/site-packages (from jupyter-server>=1.8->nbclassic>=0.4.7->notebook->jupyter) (1.6.1)\n",
      "Requirement already satisfied: cffi>=1.0.1 in /home/ec2-user/anaconda3/envs/pytorch_p310/lib/python3.10/site-packages (from argon2-cffi-bindings->argon2-cffi->notebook->jupyter) (1.15.1)\n",
      "Requirement already satisfied: executing>=1.2.0 in /home/ec2-user/anaconda3/envs/pytorch_p310/lib/python3.10/site-packages (from stack-data->ipython>=7.23.1->ipykernel->jupyter) (1.2.0)\n",
      "Requirement already satisfied: asttokens>=2.1.0 in /home/ec2-user/anaconda3/envs/pytorch_p310/lib/python3.10/site-packages (from stack-data->ipython>=7.23.1->ipykernel->jupyter) (2.2.1)\n",
      "Requirement already satisfied: pure-eval in /home/ec2-user/anaconda3/envs/pytorch_p310/lib/python3.10/site-packages (from stack-data->ipython>=7.23.1->ipykernel->jupyter) (0.2.2)\n",
      "Requirement already satisfied: idna>=2.8 in /home/ec2-user/anaconda3/envs/pytorch_p310/lib/python3.10/site-packages (from anyio>=3.1.0->jupyter-server>=1.8->nbclassic>=0.4.7->notebook->jupyter) (3.4)\n",
      "Requirement already satisfied: sniffio>=1.1 in /home/ec2-user/anaconda3/envs/pytorch_p310/lib/python3.10/site-packages (from anyio>=3.1.0->jupyter-server>=1.8->nbclassic>=0.4.7->notebook->jupyter) (1.3.0)\n",
      "Requirement already satisfied: exceptiongroup in /home/ec2-user/anaconda3/envs/pytorch_p310/lib/python3.10/site-packages (from anyio>=3.1.0->jupyter-server>=1.8->nbclassic>=0.4.7->notebook->jupyter) (1.1.2)\n",
      "Requirement already satisfied: pycparser in /home/ec2-user/anaconda3/envs/pytorch_p310/lib/python3.10/site-packages (from cffi>=1.0.1->argon2-cffi-bindings->argon2-cffi->notebook->jupyter) (2.21)\n",
      "Requirement already satisfied: python-json-logger>=2.0.4 in /home/ec2-user/anaconda3/envs/pytorch_p310/lib/python3.10/site-packages (from jupyter-events>=0.6.0->jupyter-server>=1.8->nbclassic>=0.4.7->notebook->jupyter) (2.0.7)\n",
      "Requirement already satisfied: pyyaml>=5.3 in /home/ec2-user/anaconda3/envs/pytorch_p310/lib/python3.10/site-packages (from jupyter-events>=0.6.0->jupyter-server>=1.8->nbclassic>=0.4.7->notebook->jupyter) (6.0)\n",
      "Requirement already satisfied: rfc3339-validator in /home/ec2-user/anaconda3/envs/pytorch_p310/lib/python3.10/site-packages (from jupyter-events>=0.6.0->jupyter-server>=1.8->nbclassic>=0.4.7->notebook->jupyter) (0.1.4)\n",
      "Requirement already satisfied: rfc3986-validator>=0.1.1 in /home/ec2-user/anaconda3/envs/pytorch_p310/lib/python3.10/site-packages (from jupyter-events>=0.6.0->jupyter-server>=1.8->nbclassic>=0.4.7->notebook->jupyter) (0.1.1)\n",
      "Requirement already satisfied: fqdn in /home/ec2-user/anaconda3/envs/pytorch_p310/lib/python3.10/site-packages (from jsonschema>=2.6->nbformat>=5.7->nbconvert->jupyter) (1.5.1)\n",
      "Requirement already satisfied: isoduration in /home/ec2-user/anaconda3/envs/pytorch_p310/lib/python3.10/site-packages (from jsonschema>=2.6->nbformat>=5.7->nbconvert->jupyter) (20.11.0)\n",
      "Requirement already satisfied: jsonpointer>1.13 in /home/ec2-user/anaconda3/envs/pytorch_p310/lib/python3.10/site-packages (from jsonschema>=2.6->nbformat>=5.7->nbconvert->jupyter) (2.4)\n",
      "Requirement already satisfied: uri-template in /home/ec2-user/anaconda3/envs/pytorch_p310/lib/python3.10/site-packages (from jsonschema>=2.6->nbformat>=5.7->nbconvert->jupyter) (1.3.0)\n",
      "Requirement already satisfied: webcolors>=1.11 in /home/ec2-user/anaconda3/envs/pytorch_p310/lib/python3.10/site-packages (from jsonschema>=2.6->nbformat>=5.7->nbconvert->jupyter) (1.13)\n",
      "Requirement already satisfied: arrow>=0.15.0 in /home/ec2-user/anaconda3/envs/pytorch_p310/lib/python3.10/site-packages (from isoduration->jsonschema>=2.6->nbformat>=5.7->nbconvert->jupyter) (1.2.3)\n",
      "Note: you may need to restart the kernel to use updated packages.\n"
     ]
    }
   ],
   "source": [
    "pip install --upgrade jupyter"
   ]
  },
  {
   "cell_type": "code",
   "execution_count": 4,
   "metadata": {},
   "outputs": [
    {
     "name": "stdout",
     "output_type": "stream",
     "text": [
      "Requirement already satisfied: ipywidgets in /home/ec2-user/anaconda3/envs/pytorch_p310/lib/python3.10/site-packages (8.0.7)\n",
      "Collecting ipywidgets\n",
      "  Obtaining dependency information for ipywidgets from https://files.pythonhosted.org/packages/b8/d4/ce436660098b2f456e2b8fdf76d4f33cbc3766c874c4aa2f772c7a5e943f/ipywidgets-8.1.0-py3-none-any.whl.metadata\n",
      "  Downloading ipywidgets-8.1.0-py3-none-any.whl.metadata (2.4 kB)\n",
      "Requirement already satisfied: comm>=0.1.3 in /home/ec2-user/anaconda3/envs/pytorch_p310/lib/python3.10/site-packages (from ipywidgets) (0.1.3)\n",
      "Requirement already satisfied: ipython>=6.1.0 in /home/ec2-user/anaconda3/envs/pytorch_p310/lib/python3.10/site-packages (from ipywidgets) (8.14.0)\n",
      "Requirement already satisfied: traitlets>=4.3.1 in /home/ec2-user/anaconda3/envs/pytorch_p310/lib/python3.10/site-packages (from ipywidgets) (5.9.0)\n",
      "Requirement already satisfied: widgetsnbextension~=4.0.7 in /home/ec2-user/anaconda3/envs/pytorch_p310/lib/python3.10/site-packages (from ipywidgets) (4.0.8)\n",
      "Requirement already satisfied: jupyterlab-widgets~=3.0.7 in /home/ec2-user/anaconda3/envs/pytorch_p310/lib/python3.10/site-packages (from ipywidgets) (3.0.8)\n",
      "Requirement already satisfied: backcall in /home/ec2-user/anaconda3/envs/pytorch_p310/lib/python3.10/site-packages (from ipython>=6.1.0->ipywidgets) (0.2.0)\n",
      "Requirement already satisfied: decorator in /home/ec2-user/anaconda3/envs/pytorch_p310/lib/python3.10/site-packages (from ipython>=6.1.0->ipywidgets) (5.1.1)\n",
      "Requirement already satisfied: jedi>=0.16 in /home/ec2-user/anaconda3/envs/pytorch_p310/lib/python3.10/site-packages (from ipython>=6.1.0->ipywidgets) (0.18.2)\n",
      "Requirement already satisfied: matplotlib-inline in /home/ec2-user/anaconda3/envs/pytorch_p310/lib/python3.10/site-packages (from ipython>=6.1.0->ipywidgets) (0.1.6)\n",
      "Requirement already satisfied: pickleshare in /home/ec2-user/anaconda3/envs/pytorch_p310/lib/python3.10/site-packages (from ipython>=6.1.0->ipywidgets) (0.7.5)\n",
      "Requirement already satisfied: prompt-toolkit!=3.0.37,<3.1.0,>=3.0.30 in /home/ec2-user/anaconda3/envs/pytorch_p310/lib/python3.10/site-packages (from ipython>=6.1.0->ipywidgets) (3.0.39)\n",
      "Requirement already satisfied: pygments>=2.4.0 in /home/ec2-user/anaconda3/envs/pytorch_p310/lib/python3.10/site-packages (from ipython>=6.1.0->ipywidgets) (2.15.1)\n",
      "Requirement already satisfied: stack-data in /home/ec2-user/anaconda3/envs/pytorch_p310/lib/python3.10/site-packages (from ipython>=6.1.0->ipywidgets) (0.6.2)\n",
      "Requirement already satisfied: pexpect>4.3 in /home/ec2-user/anaconda3/envs/pytorch_p310/lib/python3.10/site-packages (from ipython>=6.1.0->ipywidgets) (4.8.0)\n",
      "Requirement already satisfied: parso<0.9.0,>=0.8.0 in /home/ec2-user/anaconda3/envs/pytorch_p310/lib/python3.10/site-packages (from jedi>=0.16->ipython>=6.1.0->ipywidgets) (0.8.3)\n",
      "Requirement already satisfied: ptyprocess>=0.5 in /home/ec2-user/anaconda3/envs/pytorch_p310/lib/python3.10/site-packages (from pexpect>4.3->ipython>=6.1.0->ipywidgets) (0.7.0)\n",
      "Requirement already satisfied: wcwidth in /home/ec2-user/anaconda3/envs/pytorch_p310/lib/python3.10/site-packages (from prompt-toolkit!=3.0.37,<3.1.0,>=3.0.30->ipython>=6.1.0->ipywidgets) (0.2.6)\n",
      "Requirement already satisfied: executing>=1.2.0 in /home/ec2-user/anaconda3/envs/pytorch_p310/lib/python3.10/site-packages (from stack-data->ipython>=6.1.0->ipywidgets) (1.2.0)\n",
      "Requirement already satisfied: asttokens>=2.1.0 in /home/ec2-user/anaconda3/envs/pytorch_p310/lib/python3.10/site-packages (from stack-data->ipython>=6.1.0->ipywidgets) (2.2.1)\n",
      "Requirement already satisfied: pure-eval in /home/ec2-user/anaconda3/envs/pytorch_p310/lib/python3.10/site-packages (from stack-data->ipython>=6.1.0->ipywidgets) (0.2.2)\n",
      "Requirement already satisfied: six in /home/ec2-user/anaconda3/envs/pytorch_p310/lib/python3.10/site-packages (from asttokens>=2.1.0->stack-data->ipython>=6.1.0->ipywidgets) (1.16.0)\n",
      "Downloading ipywidgets-8.1.0-py3-none-any.whl (139 kB)\n",
      "\u001b[2K   \u001b[90m━━━━━━━━━━━━━━━━━━━━━━━━━━━━━━━━━━━━━━━━\u001b[0m \u001b[32m139.3/139.3 kB\u001b[0m \u001b[31m10.9 MB/s\u001b[0m eta \u001b[36m0:00:00\u001b[0m\n",
      "\u001b[?25hInstalling collected packages: ipywidgets\n",
      "  Attempting uninstall: ipywidgets\n",
      "    Found existing installation: ipywidgets 8.0.7\n",
      "    Uninstalling ipywidgets-8.0.7:\n",
      "      Successfully uninstalled ipywidgets-8.0.7\n",
      "Successfully installed ipywidgets-8.1.0\n",
      "Note: you may need to restart the kernel to use updated packages.\n"
     ]
    }
   ],
   "source": [
    "pip install --upgrade ipywidgets\n"
   ]
  },
  {
   "cell_type": "code",
   "execution_count": 3,
   "metadata": {},
   "outputs": [
    {
     "name": "stdout",
     "output_type": "stream",
     "text": [
      "Name: numpy\r\n",
      "Version: 1.24.4\r\n",
      "Summary: Fundamental package for array computing in Python\r\n",
      "Home-page: https://www.numpy.org\r\n",
      "Author: Travis E. Oliphant et al.\r\n",
      "Author-email: \r\n",
      "License: BSD-3-Clause\r\n",
      "Location: /home/ec2-user/anaconda3/envs/pytorch_p310/lib/python3.10/site-packages\r\n",
      "Requires: \r\n",
      "Required-by: bokeh, captum, contourpy, gym, hdijupyterutils, imageio, matplotlib, numba, onnx, opencv-python, pandas, patsy, pyarrow, sagemaker, sagemaker-pyspark, scikit-learn, scipy, seaborn, shap, smclarify, sparkmagic, statsmodels, torchtext, torchvision\r\n"
     ]
    }
   ],
   "source": [
    "!pip show numpy  # Find installation direectory"
   ]
  },
  {
   "cell_type": "code",
   "execution_count": 4,
   "metadata": {},
   "outputs": [],
   "source": [
    "# updata the path to include user installation directory\n",
    "import os\n",
    "new_path = '/home/ec2-user/anaconda3/envs/pytorch_p310/lib/python3.10/site-packages'\n",
    "os.environ['PATH'] = f\"{os.environ['PATH']}:{new_path}\""
   ]
  },
  {
   "cell_type": "markdown",
   "metadata": {},
   "source": [
    "## Load the Dataset\n",
    "\n",
    "Specify your transforms as a list if you intend to .\n",
    "The transforms module is already loaded as `transforms`.\n",
    "\n",
    "MNIST is fortunately included in the torchvision module.\n",
    "Then, you can create your dataset using the `MNIST` object from `torchvision.datasets` ([the documentation is available here](https://pytorch.org/vision/stable/datasets.html#mnist)).\n",
    "Make sure to specify `download=True`! \n",
    "\n",
    "Once your dataset is created, you'll also need to define a `DataLoader` from the `torch.utils.data` module for both the train and the test set."
   ]
  },
  {
   "cell_type": "code",
   "execution_count": 8,
   "metadata": {},
   "outputs": [
    {
     "name": "stdout",
     "output_type": "stream",
     "text": [
      "Downloading http://yann.lecun.com/exdb/mnist/train-images-idx3-ubyte.gz\n",
      "Downloading http://yann.lecun.com/exdb/mnist/train-images-idx3-ubyte.gz to data/MNIST/raw/train-images-idx3-ubyte.gz\n"
     ]
    },
    {
     "name": "stderr",
     "output_type": "stream",
     "text": [
      "100%|██████████| 9912422/9912422 [00:00<00:00, 135809309.17it/s]"
     ]
    },
    {
     "name": "stdout",
     "output_type": "stream",
     "text": [
      "Extracting data/MNIST/raw/train-images-idx3-ubyte.gz to data/MNIST/raw\n"
     ]
    },
    {
     "name": "stderr",
     "output_type": "stream",
     "text": [
      "\n"
     ]
    },
    {
     "name": "stdout",
     "output_type": "stream",
     "text": [
      "\n",
      "Downloading http://yann.lecun.com/exdb/mnist/train-labels-idx1-ubyte.gz\n",
      "Downloading http://yann.lecun.com/exdb/mnist/train-labels-idx1-ubyte.gz to data/MNIST/raw/train-labels-idx1-ubyte.gz\n"
     ]
    },
    {
     "name": "stderr",
     "output_type": "stream",
     "text": [
      "100%|██████████| 28881/28881 [00:00<00:00, 46252651.33it/s]\n"
     ]
    },
    {
     "name": "stdout",
     "output_type": "stream",
     "text": [
      "Extracting data/MNIST/raw/train-labels-idx1-ubyte.gz to data/MNIST/raw\n",
      "\n",
      "Downloading http://yann.lecun.com/exdb/mnist/t10k-images-idx3-ubyte.gz\n",
      "Downloading http://yann.lecun.com/exdb/mnist/t10k-images-idx3-ubyte.gz to data/MNIST/raw/t10k-images-idx3-ubyte.gz\n"
     ]
    },
    {
     "name": "stderr",
     "output_type": "stream",
     "text": [
      "100%|██████████| 1648877/1648877 [00:00<00:00, 294895590.85it/s]\n"
     ]
    },
    {
     "name": "stdout",
     "output_type": "stream",
     "text": [
      "Extracting data/MNIST/raw/t10k-images-idx3-ubyte.gz to data/MNIST/raw\n",
      "\n",
      "Downloading http://yann.lecun.com/exdb/mnist/t10k-labels-idx1-ubyte.gz\n",
      "Downloading http://yann.lecun.com/exdb/mnist/t10k-labels-idx1-ubyte.gz to data/MNIST/raw/t10k-labels-idx1-ubyte.gz\n"
     ]
    },
    {
     "name": "stderr",
     "output_type": "stream",
     "text": [
      "100%|██████████| 4542/4542 [00:00<00:00, 13192886.96it/s]"
     ]
    },
    {
     "name": "stdout",
     "output_type": "stream",
     "text": [
      "Extracting data/MNIST/raw/t10k-labels-idx1-ubyte.gz to data/MNIST/raw\n",
      "\n"
     ]
    },
    {
     "name": "stderr",
     "output_type": "stream",
     "text": [
      "\n"
     ]
    }
   ],
   "source": [
    "from torchvision import datasets\n",
    "from torch.utils.data import DataLoader\n",
    "\n",
    "# Define transforms\n",
    "## YOUR CODE HERE ##\n",
    "transform = transforms.Compose([\n",
    "    transforms.ToTensor(),  # Convert PIL image to tensor\n",
    "    transforms.Normalize((0.5,), (0.5,))  # Normalize the image\n",
    "])\n",
    "\n",
    "# Create training set and define training dataloader\n",
    "## YOUR CODE HERE ##\n",
    "\n",
    "training_data = datasets.MNIST(root=\"data\", train=True, download=True, transform=transform)\n",
    "train_loader = DataLoader(training_data, batch_size=64, shuffle=True)\n",
    "# Create test set and define test dataloader\n",
    "## YOUR CODE HERE ##\n",
    "test_data = datasets.MNIST(root=\"data\", train=False, download=True, transform=transform)\n",
    "test_loader = DataLoader(test_data, batch_size=64)"
   ]
  },
  {
   "cell_type": "markdown",
   "metadata": {},
   "source": [
    "## Justify your preprocessing\n",
    "\n",
    "In your own words, why did you choose the transforms you chose? If you didn't use any preprocessing steps, why not?"
   ]
  },
  {
   "cell_type": "markdown",
   "metadata": {},
   "source": [
    "**DOUBLE CLICK THIS CELL TO MODIFY**"
   ]
  },
  {
   "cell_type": "markdown",
   "metadata": {},
   "source": [
    "## Explore the Dataset\n",
    "Using matplotlib, numpy, and torch, explore the dimensions of your data.\n",
    "\n",
    "You can view images using the `show5` function defined below – it takes a data loader as an argument.\n",
    "Remember that normalized images will look really weird to you! You may want to try changing your transforms to view images.\n",
    "Typically using no transforms other than `toTensor()` works well for viewing – but not as well for training your network.\n",
    "If `show5` doesn't work, go back and check your code for creating your data loaders and your training/test sets."
   ]
  },
  {
   "cell_type": "code",
   "execution_count": 16,
   "metadata": {},
   "outputs": [],
   "source": [
    "## This cell contains a function for showing 5 images from a dataloader – DO NOT CHANGE THE CONTENTS! ##\n",
    "def show5(img_loader):\n",
    "    dataiter = iter(img_loader)\n",
    "    \n",
    "    batch = next(dataiter)\n",
    "    labels = batch[1][0:5]\n",
    "    images = batch[0][0:5]\n",
    "    for i in range(5):\n",
    "        print(int(labels[i].detach()))\n",
    "    \n",
    "        image = images[i].numpy()\n",
    "        plt.imshow(image.T.squeeze().T)\n",
    "        plt.show()"
   ]
  },
  {
   "cell_type": "code",
   "execution_count": 17,
   "metadata": {},
   "outputs": [
    {
     "name": "stdout",
     "output_type": "stream",
     "text": [
      "7\n"
     ]
    },
    {
     "data": {
      "image/png": "[encoded data removed]",
      "text/plain": [
       "<Figure size 640x480 with 1 Axes>"
      ]
     },
     "metadata": {},
     "output_type": "display_data"
    },
    {
     "name": "stdout",
     "output_type": "stream",
     "text": [
      "9\n"
     ]
    },
    {
     "data": {
      "image/png": "[encoded data removed]",
      "text/plain": [
       "<Figure size 640x480 with 1 Axes>"
      ]
     },
     "metadata": {},
     "output_type": "display_data"
    },
    {
     "name": "stdout",
     "output_type": "stream",
     "text": [
      "2\n"
     ]
    },
    {
     "data": {
      "image/png": "[encoded data removed]",
      "text/plain": [
       "<Figure size 640x480 with 1 Axes>"
      ]
     },
     "metadata": {},
     "output_type": "display_data"
    },
    {
     "name": "stdout",
     "output_type": "stream",
     "text": [
      "3\n"
     ]
    },
    {
     "data": {
      "image/png": "[encoded data removed]",
      "text/plain": [
       "<Figure size 640x480 with 1 Axes>"
      ]
     },
     "metadata": {},
     "output_type": "display_data"
    },
    {
     "name": "stdout",
     "output_type": "stream",
     "text": [
      "1\n"
     ]
    },
    {
     "data": {
      "image/png": "[encoded data removed]",
      "text/plain": [
       "<Figure size 640x480 with 1 Axes>"
      ]
     },
     "metadata": {},
     "output_type": "display_data"
    }
   ],
   "source": [
    "# Explore data\n",
    "## YOUR CODE HERE ##\n",
    "show5(train_loader)"
   ]
  },
  {
   "cell_type": "code",
   "execution_count": 19,
   "metadata": {},
   "outputs": [
    {
     "name": "stdout",
     "output_type": "stream",
     "text": [
      "Image Shape:  torch.Size([64, 1, 28, 28])\n",
      "Label Shape:  torch.Size([64])\n"
     ]
    },
    {
     "data": {
      "image/png": "[encoded data removed]",
      "text/plain": [
       "<Figure size 640x480 with 10 Axes>"
      ]
     },
     "metadata": {},
     "output_type": "display_data"
    }
   ],
   "source": [
    "dataiter = iter(train_loader)\n",
    "images, labels = next(dataiter)\n",
    "\n",
    "print('Image Shape: ', images.shape)\n",
    "print('Label Shape: ',labels.shape)\n",
    "\n",
    "figure = plt.figure()\n",
    "num_of_images = 10\n",
    "for index in range(1, (num_of_images + 1)):\n",
    "    plt.subplot(2, 5, index)\n",
    "    plt.axis('off')\n",
    "    plt.imshow(images[index].numpy().squeeze(), cmap='gray_r')"
   ]
  },
  {
   "cell_type": "markdown",
   "metadata": {},
   "source": [
    "## Build your Neural Network\n",
    "Using the layers in `torch.nn` (which has been imported as `nn`) and the `torch.nn.functional` module (imported as `F`), construct a neural network based on the parameters of the dataset.\n",
    "Use any architecture you like. \n",
    "\n",
    "*Note*: If you did not flatten your tensors in your transforms or as part of your preprocessing and you are using only `Linear` layers, make sure to use the `Flatten` layer in your network!"
   ]
  },
  {
   "cell_type": "code",
   "execution_count": 29,
   "metadata": {},
   "outputs": [
    {
     "name": "stdout",
     "output_type": "stream",
     "text": [
      "NeuralNetwork(\n",
      "  (fc1): Linear(in_features=784, out_features=128, bias=True)\n",
      "  (relu): ReLU()\n",
      "  (fc2): Linear(in_features=128, out_features=64, bias=True)\n",
      "  (fc3): Linear(in_features=64, out_features=10, bias=True)\n",
      ")\n"
     ]
    },
    {
     "data": {
      "text/plain": [
       "NeuralNetwork(\n",
       "  (fc1): Linear(in_features=784, out_features=128, bias=True)\n",
       "  (relu): ReLU()\n",
       "  (fc2): Linear(in_features=128, out_features=64, bias=True)\n",
       "  (fc3): Linear(in_features=64, out_features=10, bias=True)\n",
       ")"
      ]
     },
     "execution_count": 29,
     "metadata": {},
     "output_type": "execute_result"
    }
   ],
   "source": [
    "## YOUR CODE HERE ##\n",
    "class NeuralNetwork(nn.Module):\n",
    "    def __init__(self):\n",
    "        super(NeuralNetwork, self).__init__()\n",
    "        self.fc1 = nn.Linear(784, 128)\n",
    "        self.relu = nn.ReLU()\n",
    "        self.fc2 = nn.Linear(128, 64)\n",
    "        self.fc3 = nn.Linear(64, 10)\n",
    "\n",
    "    def forward(self, x):\n",
    "        x = x.view(x.size(0), -1)\n",
    "        x = self.fc1(x)\n",
    "        x = self.relu(x)\n",
    "        x = self.fc2(x)\n",
    "        x = self.relu(x)\n",
    "        x = self.fc3(x)\n",
    "        return x\n",
    "\n",
    "# Create an instance of the neural network\n",
    "model = NeuralNetwork()\n",
    "print(model)\n",
    "model.to(device)"
   ]
  },
  {
   "cell_type": "markdown",
   "metadata": {},
   "source": [
    "Specify a loss function and an optimizer, and instantiate the model.\n",
    "\n",
    "If you use a less common loss function, please note why you chose that loss function in a comment."
   ]
  },
  {
   "cell_type": "code",
   "execution_count": 30,
   "metadata": {},
   "outputs": [],
   "source": [
    "## YOUR CODE HERE ##\n",
    "criterion = nn.CrossEntropyLoss()\n",
    "optimizer= optim.Adam(model.parameters(), lr=0.001)"
   ]
  },
  {
   "cell_type": "markdown",
   "metadata": {},
   "source": [
    "## Running your Neural Network\n",
    "Use whatever method you like to train your neural network, and ensure you record the average loss at each epoch. \n",
    "Don't forget to use `torch.device()` and the `.to()` method for both your model and your data if you are using GPU!\n",
    "\n",
    "If you want to print your loss **during** each epoch, you can use the `enumerate` function and print the loss after a set number of batches. 250 batches works well for most people!"
   ]
  },
  {
   "cell_type": "code",
   "execution_count": 33,
   "metadata": {},
   "outputs": [
    {
     "name": "stdout",
     "output_type": "stream",
     "text": [
      "Epoch 1/250.. Training Loss: 0.493.. Validation Loss: 0.462.. Accuracy: 0.872\n",
      "Epoch 1/250.. Training Loss: 0.490.. Validation Loss: 0.495.. Accuracy: 0.850\n",
      "Epoch 1/250.. Training Loss: 0.439.. Validation Loss: 0.411.. Accuracy: 0.882\n",
      "Epoch 1/250.. Training Loss: 0.405.. Validation Loss: 0.416.. Accuracy: 0.882\n",
      "Epoch 1/250.. Training Loss: 0.434.. Validation Loss: 0.407.. Accuracy: 0.879\n",
      "Epoch 1/250.. Training Loss: 0.453.. Validation Loss: 0.430.. Accuracy: 0.880\n",
      "Epoch 1/250.. Training Loss: 0.497.. Validation Loss: 0.401.. Accuracy: 0.880\n",
      "Epoch 1/250.. Training Loss: 0.383.. Validation Loss: 0.440.. Accuracy: 0.869\n",
      "Epoch 1/250.. Training Loss: 0.470.. Validation Loss: 0.399.. Accuracy: 0.880\n",
      "Epoch 1/250.. Training Loss: 0.452.. Validation Loss: 0.416.. Accuracy: 0.879\n",
      "Epoch 1/250.. Training Loss: 0.438.. Validation Loss: 0.384.. Accuracy: 0.889\n",
      "Epoch 1/250.. Training Loss: 0.416.. Validation Loss: 0.387.. Accuracy: 0.886\n",
      "Epoch 1/250.. Training Loss: 0.343.. Validation Loss: 0.362.. Accuracy: 0.894\n",
      "Epoch 1/250.. Training Loss: 0.423.. Validation Loss: 0.372.. Accuracy: 0.885\n",
      "Epoch 1/250.. Training Loss: 0.338.. Validation Loss: 0.357.. Accuracy: 0.895\n",
      "Epoch 1/250.. Training Loss: 0.320.. Validation Loss: 0.360.. Accuracy: 0.893\n",
      "Epoch 1/250.. Training Loss: 0.371.. Validation Loss: 0.343.. Accuracy: 0.897\n",
      "Epoch 1/250.. Training Loss: 0.439.. Validation Loss: 0.340.. Accuracy: 0.903\n",
      "Epoch 1/250.. Training Loss: 0.317.. Validation Loss: 0.331.. Accuracy: 0.903\n",
      "Epoch 1/250.. Training Loss: 0.324.. Validation Loss: 0.346.. Accuracy: 0.901\n",
      "Epoch 1/250.. Training Loss: 0.373.. Validation Loss: 0.333.. Accuracy: 0.903\n",
      "Epoch 1/250.. Training Loss: 0.381.. Validation Loss: 0.323.. Accuracy: 0.906\n",
      "Epoch 1/250.. Training Loss: 0.348.. Validation Loss: 0.342.. Accuracy: 0.901\n",
      "Epoch 1/250.. Training Loss: 0.314.. Validation Loss: 0.324.. Accuracy: 0.905\n",
      "Epoch 1/250.. Training Loss: 0.364.. Validation Loss: 0.341.. Accuracy: 0.899\n",
      "Epoch 1/250.. Training Loss: 0.370.. Validation Loss: 0.327.. Accuracy: 0.903\n",
      "Epoch 1/250.. Training Loss: 0.359.. Validation Loss: 0.345.. Accuracy: 0.900\n",
      "Epoch 1/250.. Training Loss: 0.359.. Validation Loss: 0.331.. Accuracy: 0.901\n",
      "Epoch 1/250.. Training Loss: 0.304.. Validation Loss: 0.330.. Accuracy: 0.899\n",
      "Epoch 1/250.. Training Loss: 0.345.. Validation Loss: 0.308.. Accuracy: 0.911\n",
      "Epoch 1/250.. Training Loss: 0.306.. Validation Loss: 0.306.. Accuracy: 0.909\n",
      "Epoch 1/250.. Training Loss: 0.378.. Validation Loss: 0.308.. Accuracy: 0.910\n",
      "Epoch 1/250.. Training Loss: 0.276.. Validation Loss: 0.331.. Accuracy: 0.901\n",
      "Epoch 1/250.. Training Loss: 0.324.. Validation Loss: 0.318.. Accuracy: 0.905\n",
      "Epoch 1/250.. Training Loss: 0.328.. Validation Loss: 0.343.. Accuracy: 0.899\n",
      "Epoch 1/250.. Training Loss: 0.327.. Validation Loss: 0.330.. Accuracy: 0.900\n",
      "Epoch 1/250.. Training Loss: 0.286.. Validation Loss: 0.321.. Accuracy: 0.901\n",
      "Epoch 1/250.. Training Loss: 0.319.. Validation Loss: 0.306.. Accuracy: 0.908\n",
      "Epoch 1/250.. Training Loss: 0.298.. Validation Loss: 0.310.. Accuracy: 0.908\n",
      "Epoch 1/250.. Training Loss: 0.372.. Validation Loss: 0.340.. Accuracy: 0.902\n",
      "Epoch 1/250.. Training Loss: 0.340.. Validation Loss: 0.309.. Accuracy: 0.909\n",
      "Epoch 1/250.. Training Loss: 0.418.. Validation Loss: 0.322.. Accuracy: 0.899\n",
      "Epoch 1/250.. Training Loss: 0.339.. Validation Loss: 0.304.. Accuracy: 0.912\n",
      "Epoch 1/250.. Training Loss: 0.302.. Validation Loss: 0.296.. Accuracy: 0.911\n",
      "Epoch 1/250.. Training Loss: 0.370.. Validation Loss: 0.290.. Accuracy: 0.916\n",
      "Epoch 1/250.. Training Loss: 0.346.. Validation Loss: 0.317.. Accuracy: 0.907\n",
      "Epoch 1/250.. Training Loss: 0.308.. Validation Loss: 0.291.. Accuracy: 0.914\n",
      "Epoch 1/250.. Training Loss: 0.281.. Validation Loss: 0.288.. Accuracy: 0.913\n",
      "Epoch 1/250.. Training Loss: 0.267.. Validation Loss: 0.276.. Accuracy: 0.918\n",
      "Epoch 1/250.. Training Loss: 0.288.. Validation Loss: 0.283.. Accuracy: 0.915\n",
      "Epoch 1/250.. Training Loss: 0.342.. Validation Loss: 0.300.. Accuracy: 0.909\n",
      "Epoch 1/250.. Training Loss: 0.310.. Validation Loss: 0.272.. Accuracy: 0.921\n",
      "Epoch 1/250.. Training Loss: 0.281.. Validation Loss: 0.291.. Accuracy: 0.915\n",
      "Epoch 1/250.. Training Loss: 0.300.. Validation Loss: 0.298.. Accuracy: 0.913\n",
      "Epoch 1/250.. Training Loss: 0.282.. Validation Loss: 0.291.. Accuracy: 0.915\n",
      "Epoch 1/250.. Training Loss: 0.304.. Validation Loss: 0.292.. Accuracy: 0.912\n",
      "Epoch 1/250.. Training Loss: 0.346.. Validation Loss: 0.302.. Accuracy: 0.909\n",
      "Epoch 1/250.. Training Loss: 0.346.. Validation Loss: 0.277.. Accuracy: 0.917\n",
      "Epoch 1/250.. Training Loss: 0.295.. Validation Loss: 0.288.. Accuracy: 0.912\n",
      "Epoch 1/250.. Training Loss: 0.302.. Validation Loss: 0.259.. Accuracy: 0.924\n",
      "Epoch 1/250.. Training Loss: 0.320.. Validation Loss: 0.270.. Accuracy: 0.919\n",
      "Epoch 1/250.. Training Loss: 0.286.. Validation Loss: 0.288.. Accuracy: 0.911\n",
      "Epoch 1/250.. Training Loss: 0.351.. Validation Loss: 0.289.. Accuracy: 0.910\n",
      "Epoch 1/250.. Training Loss: 0.292.. Validation Loss: 0.264.. Accuracy: 0.922\n",
      "Epoch 1/250.. Training Loss: 0.210.. Validation Loss: 0.266.. Accuracy: 0.925\n",
      "Epoch 1/250.. Training Loss: 0.322.. Validation Loss: 0.263.. Accuracy: 0.921\n",
      "Epoch 1/250.. Training Loss: 0.311.. Validation Loss: 0.259.. Accuracy: 0.924\n",
      "Epoch 1/250.. Training Loss: 0.314.. Validation Loss: 0.265.. Accuracy: 0.920\n",
      "Epoch 1/250.. Training Loss: 0.274.. Validation Loss: 0.259.. Accuracy: 0.923\n",
      "Epoch 1/250.. Training Loss: 0.322.. Validation Loss: 0.263.. Accuracy: 0.920\n",
      "Epoch 1/250.. Training Loss: 0.275.. Validation Loss: 0.261.. Accuracy: 0.924\n",
      "Epoch 1/250.. Training Loss: 0.319.. Validation Loss: 0.244.. Accuracy: 0.930\n",
      "Epoch 1/250.. Training Loss: 0.277.. Validation Loss: 0.268.. Accuracy: 0.918\n",
      "Epoch 1/250.. Training Loss: 0.292.. Validation Loss: 0.246.. Accuracy: 0.926\n",
      "Epoch 1/250.. Training Loss: 0.286.. Validation Loss: 0.242.. Accuracy: 0.927\n",
      "Epoch 1/250.. Training Loss: 0.229.. Validation Loss: 0.235.. Accuracy: 0.930\n",
      "Epoch 1/250.. Training Loss: 0.188.. Validation Loss: 0.236.. Accuracy: 0.929\n",
      "Epoch 1/250.. Training Loss: 0.245.. Validation Loss: 0.249.. Accuracy: 0.926\n",
      "Epoch 1/250.. Training Loss: 0.265.. Validation Loss: 0.232.. Accuracy: 0.929\n",
      "Epoch 1/250.. Training Loss: 0.336.. Validation Loss: 0.263.. Accuracy: 0.922\n",
      "Epoch 1/250.. Training Loss: 0.306.. Validation Loss: 0.239.. Accuracy: 0.929\n",
      "Epoch 1/250.. Training Loss: 0.315.. Validation Loss: 0.249.. Accuracy: 0.925\n",
      "Epoch 1/250.. Training Loss: 0.267.. Validation Loss: 0.238.. Accuracy: 0.926\n",
      "Epoch 1/250.. Training Loss: 0.268.. Validation Loss: 0.232.. Accuracy: 0.932\n",
      "Epoch 1/250.. Training Loss: 0.214.. Validation Loss: 0.244.. Accuracy: 0.925\n",
      "Epoch 1/250.. Training Loss: 0.231.. Validation Loss: 0.250.. Accuracy: 0.923\n",
      "Epoch 1/250.. Training Loss: 0.182.. Validation Loss: 0.227.. Accuracy: 0.930\n",
      "Epoch 1/250.. Training Loss: 0.201.. Validation Loss: 0.228.. Accuracy: 0.933\n",
      "Epoch 1/250.. Training Loss: 0.239.. Validation Loss: 0.222.. Accuracy: 0.932\n",
      "Epoch 1/250.. Training Loss: 0.193.. Validation Loss: 0.234.. Accuracy: 0.932\n",
      "Epoch 1/250.. Training Loss: 0.281.. Validation Loss: 0.247.. Accuracy: 0.924\n",
      "Epoch 1/250.. Training Loss: 0.256.. Validation Loss: 0.221.. Accuracy: 0.933\n",
      "Epoch 1/250.. Training Loss: 0.213.. Validation Loss: 0.230.. Accuracy: 0.933\n",
      "Epoch 2/250.. Training Loss: 0.202.. Validation Loss: 0.211.. Accuracy: 0.936\n",
      "Epoch 2/250.. Training Loss: 0.237.. Validation Loss: 0.231.. Accuracy: 0.935\n",
      "Epoch 2/250.. Training Loss: 0.233.. Validation Loss: 0.249.. Accuracy: 0.922\n",
      "Epoch 2/250.. Training Loss: 0.244.. Validation Loss: 0.245.. Accuracy: 0.925\n",
      "Epoch 2/250.. Training Loss: 0.262.. Validation Loss: 0.210.. Accuracy: 0.936\n",
      "Epoch 2/250.. Training Loss: 0.223.. Validation Loss: 0.217.. Accuracy: 0.933\n",
      "Epoch 2/250.. Training Loss: 0.221.. Validation Loss: 0.241.. Accuracy: 0.928\n",
      "Epoch 2/250.. Training Loss: 0.245.. Validation Loss: 0.203.. Accuracy: 0.939\n",
      "Epoch 2/250.. Training Loss: 0.177.. Validation Loss: 0.206.. Accuracy: 0.940\n",
      "Epoch 2/250.. Training Loss: 0.182.. Validation Loss: 0.206.. Accuracy: 0.937\n",
      "Epoch 2/250.. Training Loss: 0.193.. Validation Loss: 0.207.. Accuracy: 0.936\n",
      "Epoch 2/250.. Training Loss: 0.201.. Validation Loss: 0.219.. Accuracy: 0.936\n",
      "Epoch 2/250.. Training Loss: 0.210.. Validation Loss: 0.215.. Accuracy: 0.931\n",
      "Epoch 2/250.. Training Loss: 0.191.. Validation Loss: 0.197.. Accuracy: 0.940\n",
      "Epoch 2/250.. Training Loss: 0.149.. Validation Loss: 0.193.. Accuracy: 0.942\n",
      "Epoch 2/250.. Training Loss: 0.182.. Validation Loss: 0.191.. Accuracy: 0.944\n",
      "Epoch 2/250.. Training Loss: 0.152.. Validation Loss: 0.197.. Accuracy: 0.943\n",
      "Epoch 2/250.. Training Loss: 0.219.. Validation Loss: 0.214.. Accuracy: 0.936\n",
      "Epoch 2/250.. Training Loss: 0.185.. Validation Loss: 0.223.. Accuracy: 0.935\n",
      "Epoch 2/250.. Training Loss: 0.239.. Validation Loss: 0.226.. Accuracy: 0.930\n",
      "Epoch 2/250.. Training Loss: 0.230.. Validation Loss: 0.206.. Accuracy: 0.938\n",
      "Epoch 2/250.. Training Loss: 0.216.. Validation Loss: 0.217.. Accuracy: 0.936\n",
      "Epoch 2/250.. Training Loss: 0.177.. Validation Loss: 0.207.. Accuracy: 0.937\n",
      "Epoch 2/250.. Training Loss: 0.233.. Validation Loss: 0.199.. Accuracy: 0.941\n",
      "Epoch 2/250.. Training Loss: 0.182.. Validation Loss: 0.201.. Accuracy: 0.940\n",
      "Epoch 2/250.. Training Loss: 0.222.. Validation Loss: 0.212.. Accuracy: 0.938\n",
      "Epoch 2/250.. Training Loss: 0.185.. Validation Loss: 0.183.. Accuracy: 0.945\n",
      "Epoch 2/250.. Training Loss: 0.156.. Validation Loss: 0.190.. Accuracy: 0.943\n",
      "Epoch 2/250.. Training Loss: 0.231.. Validation Loss: 0.203.. Accuracy: 0.941\n",
      "Epoch 2/250.. Training Loss: 0.177.. Validation Loss: 0.182.. Accuracy: 0.945\n",
      "Epoch 2/250.. Training Loss: 0.202.. Validation Loss: 0.181.. Accuracy: 0.945\n",
      "Epoch 2/250.. Training Loss: 0.227.. Validation Loss: 0.202.. Accuracy: 0.941\n",
      "Epoch 2/250.. Training Loss: 0.178.. Validation Loss: 0.193.. Accuracy: 0.942\n",
      "Epoch 2/250.. Training Loss: 0.181.. Validation Loss: 0.177.. Accuracy: 0.947\n",
      "Epoch 2/250.. Training Loss: 0.215.. Validation Loss: 0.181.. Accuracy: 0.946\n",
      "Epoch 2/250.. Training Loss: 0.153.. Validation Loss: 0.184.. Accuracy: 0.942\n",
      "Epoch 2/250.. Training Loss: 0.207.. Validation Loss: 0.180.. Accuracy: 0.946\n",
      "Epoch 2/250.. Training Loss: 0.204.. Validation Loss: 0.185.. Accuracy: 0.946\n",
      "Epoch 2/250.. Training Loss: 0.187.. Validation Loss: 0.180.. Accuracy: 0.948\n",
      "Epoch 2/250.. Training Loss: 0.178.. Validation Loss: 0.166.. Accuracy: 0.949\n",
      "Epoch 2/250.. Training Loss: 0.168.. Validation Loss: 0.173.. Accuracy: 0.948\n",
      "Epoch 2/250.. Training Loss: 0.172.. Validation Loss: 0.185.. Accuracy: 0.947\n",
      "Epoch 2/250.. Training Loss: 0.188.. Validation Loss: 0.167.. Accuracy: 0.949\n",
      "Epoch 2/250.. Training Loss: 0.202.. Validation Loss: 0.179.. Accuracy: 0.947\n",
      "Epoch 2/250.. Training Loss: 0.157.. Validation Loss: 0.175.. Accuracy: 0.949\n",
      "Epoch 2/250.. Training Loss: 0.152.. Validation Loss: 0.164.. Accuracy: 0.952\n",
      "Epoch 2/250.. Training Loss: 0.183.. Validation Loss: 0.175.. Accuracy: 0.945\n",
      "Epoch 2/250.. Training Loss: 0.171.. Validation Loss: 0.165.. Accuracy: 0.951\n",
      "Epoch 2/250.. Training Loss: 0.166.. Validation Loss: 0.163.. Accuracy: 0.951\n",
      "Epoch 2/250.. Training Loss: 0.166.. Validation Loss: 0.167.. Accuracy: 0.949\n",
      "Epoch 2/250.. Training Loss: 0.199.. Validation Loss: 0.186.. Accuracy: 0.944\n",
      "Epoch 2/250.. Training Loss: 0.148.. Validation Loss: 0.174.. Accuracy: 0.949\n",
      "Epoch 2/250.. Training Loss: 0.206.. Validation Loss: 0.169.. Accuracy: 0.949\n",
      "Epoch 2/250.. Training Loss: 0.190.. Validation Loss: 0.194.. Accuracy: 0.939\n",
      "Epoch 2/250.. Training Loss: 0.166.. Validation Loss: 0.174.. Accuracy: 0.947\n",
      "Epoch 2/250.. Training Loss: 0.191.. Validation Loss: 0.157.. Accuracy: 0.956\n",
      "Epoch 2/250.. Training Loss: 0.215.. Validation Loss: 0.166.. Accuracy: 0.950\n",
      "Epoch 2/250.. Training Loss: 0.161.. Validation Loss: 0.158.. Accuracy: 0.953\n",
      "Epoch 2/250.. Training Loss: 0.195.. Validation Loss: 0.158.. Accuracy: 0.952\n",
      "Epoch 2/250.. Training Loss: 0.237.. Validation Loss: 0.157.. Accuracy: 0.952\n",
      "Epoch 2/250.. Training Loss: 0.139.. Validation Loss: 0.178.. Accuracy: 0.947\n",
      "Epoch 2/250.. Training Loss: 0.132.. Validation Loss: 0.168.. Accuracy: 0.947\n",
      "Epoch 2/250.. Training Loss: 0.133.. Validation Loss: 0.181.. Accuracy: 0.943\n",
      "Epoch 2/250.. Training Loss: 0.142.. Validation Loss: 0.155.. Accuracy: 0.953\n",
      "Epoch 2/250.. Training Loss: 0.142.. Validation Loss: 0.167.. Accuracy: 0.949\n",
      "Epoch 2/250.. Training Loss: 0.187.. Validation Loss: 0.194.. Accuracy: 0.939\n",
      "Epoch 2/250.. Training Loss: 0.161.. Validation Loss: 0.152.. Accuracy: 0.955\n",
      "Epoch 2/250.. Training Loss: 0.248.. Validation Loss: 0.176.. Accuracy: 0.947\n",
      "Epoch 2/250.. Training Loss: 0.202.. Validation Loss: 0.178.. Accuracy: 0.945\n",
      "Epoch 2/250.. Training Loss: 0.151.. Validation Loss: 0.164.. Accuracy: 0.950\n",
      "Epoch 2/250.. Training Loss: 0.151.. Validation Loss: 0.183.. Accuracy: 0.945\n",
      "Epoch 2/250.. Training Loss: 0.162.. Validation Loss: 0.191.. Accuracy: 0.941\n",
      "Epoch 2/250.. Training Loss: 0.237.. Validation Loss: 0.163.. Accuracy: 0.953\n",
      "Epoch 2/250.. Training Loss: 0.217.. Validation Loss: 0.182.. Accuracy: 0.943\n",
      "Epoch 2/250.. Training Loss: 0.193.. Validation Loss: 0.164.. Accuracy: 0.952\n",
      "Epoch 2/250.. Training Loss: 0.194.. Validation Loss: 0.156.. Accuracy: 0.951\n",
      "Epoch 2/250.. Training Loss: 0.172.. Validation Loss: 0.162.. Accuracy: 0.951\n",
      "Epoch 2/250.. Training Loss: 0.192.. Validation Loss: 0.159.. Accuracy: 0.953\n",
      "Epoch 2/250.. Training Loss: 0.141.. Validation Loss: 0.154.. Accuracy: 0.952\n",
      "Epoch 2/250.. Training Loss: 0.146.. Validation Loss: 0.157.. Accuracy: 0.952\n",
      "Epoch 2/250.. Training Loss: 0.149.. Validation Loss: 0.149.. Accuracy: 0.955\n",
      "Epoch 2/250.. Training Loss: 0.150.. Validation Loss: 0.142.. Accuracy: 0.955\n",
      "Epoch 2/250.. Training Loss: 0.155.. Validation Loss: 0.168.. Accuracy: 0.949\n",
      "Epoch 2/250.. Training Loss: 0.181.. Validation Loss: 0.166.. Accuracy: 0.950\n",
      "Epoch 2/250.. Training Loss: 0.164.. Validation Loss: 0.165.. Accuracy: 0.951\n",
      "Epoch 2/250.. Training Loss: 0.180.. Validation Loss: 0.149.. Accuracy: 0.953\n",
      "Epoch 2/250.. Training Loss: 0.152.. Validation Loss: 0.145.. Accuracy: 0.955\n",
      "Epoch 2/250.. Training Loss: 0.152.. Validation Loss: 0.136.. Accuracy: 0.959\n",
      "Epoch 2/250.. Training Loss: 0.116.. Validation Loss: 0.147.. Accuracy: 0.955\n",
      "Epoch 2/250.. Training Loss: 0.154.. Validation Loss: 0.148.. Accuracy: 0.953\n",
      "Epoch 2/250.. Training Loss: 0.138.. Validation Loss: 0.163.. Accuracy: 0.950\n",
      "Epoch 2/250.. Training Loss: 0.124.. Validation Loss: 0.165.. Accuracy: 0.944\n",
      "Epoch 2/250.. Training Loss: 0.148.. Validation Loss: 0.150.. Accuracy: 0.954\n",
      "Epoch 2/250.. Training Loss: 0.213.. Validation Loss: 0.154.. Accuracy: 0.952\n",
      "Epoch 3/250.. Training Loss: 0.177.. Validation Loss: 0.145.. Accuracy: 0.955\n",
      "Epoch 3/250.. Training Loss: 0.110.. Validation Loss: 0.153.. Accuracy: 0.953\n",
      "Epoch 3/250.. Training Loss: 0.180.. Validation Loss: 0.145.. Accuracy: 0.956\n",
      "Epoch 3/250.. Training Loss: 0.144.. Validation Loss: 0.156.. Accuracy: 0.951\n",
      "Epoch 3/250.. Training Loss: 0.118.. Validation Loss: 0.160.. Accuracy: 0.950\n",
      "Epoch 3/250.. Training Loss: 0.134.. Validation Loss: 0.171.. Accuracy: 0.944\n",
      "Epoch 3/250.. Training Loss: 0.120.. Validation Loss: 0.169.. Accuracy: 0.949\n",
      "Epoch 3/250.. Training Loss: 0.149.. Validation Loss: 0.141.. Accuracy: 0.957\n",
      "Epoch 3/250.. Training Loss: 0.118.. Validation Loss: 0.135.. Accuracy: 0.958\n",
      "Epoch 3/250.. Training Loss: 0.143.. Validation Loss: 0.138.. Accuracy: 0.959\n",
      "Epoch 3/250.. Training Loss: 0.199.. Validation Loss: 0.147.. Accuracy: 0.953\n",
      "Epoch 3/250.. Training Loss: 0.190.. Validation Loss: 0.152.. Accuracy: 0.952\n",
      "Epoch 3/250.. Training Loss: 0.120.. Validation Loss: 0.137.. Accuracy: 0.959\n",
      "Epoch 3/250.. Training Loss: 0.145.. Validation Loss: 0.136.. Accuracy: 0.959\n",
      "Epoch 3/250.. Training Loss: 0.125.. Validation Loss: 0.139.. Accuracy: 0.956\n",
      "Epoch 3/250.. Training Loss: 0.147.. Validation Loss: 0.141.. Accuracy: 0.955\n",
      "Epoch 3/250.. Training Loss: 0.126.. Validation Loss: 0.141.. Accuracy: 0.958\n",
      "Epoch 3/250.. Training Loss: 0.151.. Validation Loss: 0.150.. Accuracy: 0.956\n",
      "Epoch 3/250.. Training Loss: 0.111.. Validation Loss: 0.160.. Accuracy: 0.950\n",
      "Epoch 3/250.. Training Loss: 0.164.. Validation Loss: 0.138.. Accuracy: 0.957\n",
      "Epoch 3/250.. Training Loss: 0.154.. Validation Loss: 0.138.. Accuracy: 0.957\n",
      "Epoch 3/250.. Training Loss: 0.137.. Validation Loss: 0.131.. Accuracy: 0.960\n",
      "Epoch 3/250.. Training Loss: 0.124.. Validation Loss: 0.149.. Accuracy: 0.953\n",
      "Epoch 3/250.. Training Loss: 0.118.. Validation Loss: 0.133.. Accuracy: 0.957\n",
      "Epoch 3/250.. Training Loss: 0.137.. Validation Loss: 0.140.. Accuracy: 0.958\n",
      "Epoch 3/250.. Training Loss: 0.139.. Validation Loss: 0.139.. Accuracy: 0.956\n",
      "Epoch 3/250.. Training Loss: 0.173.. Validation Loss: 0.166.. Accuracy: 0.947\n",
      "Epoch 3/250.. Training Loss: 0.112.. Validation Loss: 0.135.. Accuracy: 0.958\n",
      "Epoch 3/250.. Training Loss: 0.137.. Validation Loss: 0.137.. Accuracy: 0.959\n",
      "Epoch 3/250.. Training Loss: 0.144.. Validation Loss: 0.136.. Accuracy: 0.958\n",
      "Epoch 3/250.. Training Loss: 0.134.. Validation Loss: 0.162.. Accuracy: 0.949\n",
      "Epoch 3/250.. Training Loss: 0.125.. Validation Loss: 0.154.. Accuracy: 0.953\n",
      "Epoch 3/250.. Training Loss: 0.142.. Validation Loss: 0.143.. Accuracy: 0.954\n",
      "Epoch 3/250.. Training Loss: 0.142.. Validation Loss: 0.145.. Accuracy: 0.953\n",
      "Epoch 3/250.. Training Loss: 0.148.. Validation Loss: 0.137.. Accuracy: 0.956\n",
      "Epoch 3/250.. Training Loss: 0.165.. Validation Loss: 0.144.. Accuracy: 0.955\n",
      "Epoch 3/250.. Training Loss: 0.154.. Validation Loss: 0.132.. Accuracy: 0.959\n",
      "Epoch 3/250.. Training Loss: 0.149.. Validation Loss: 0.132.. Accuracy: 0.958\n",
      "Epoch 3/250.. Training Loss: 0.135.. Validation Loss: 0.133.. Accuracy: 0.957\n",
      "Epoch 3/250.. Training Loss: 0.149.. Validation Loss: 0.129.. Accuracy: 0.960\n",
      "Epoch 3/250.. Training Loss: 0.181.. Validation Loss: 0.153.. Accuracy: 0.952\n",
      "Epoch 3/250.. Training Loss: 0.124.. Validation Loss: 0.149.. Accuracy: 0.954\n",
      "Epoch 3/250.. Training Loss: 0.125.. Validation Loss: 0.132.. Accuracy: 0.959\n",
      "Epoch 3/250.. Training Loss: 0.131.. Validation Loss: 0.155.. Accuracy: 0.950\n",
      "Epoch 3/250.. Training Loss: 0.150.. Validation Loss: 0.147.. Accuracy: 0.955\n",
      "Epoch 3/250.. Training Loss: 0.121.. Validation Loss: 0.134.. Accuracy: 0.958\n",
      "Epoch 3/250.. Training Loss: 0.176.. Validation Loss: 0.126.. Accuracy: 0.960\n",
      "Epoch 3/250.. Training Loss: 0.112.. Validation Loss: 0.137.. Accuracy: 0.959\n",
      "Epoch 3/250.. Training Loss: 0.130.. Validation Loss: 0.147.. Accuracy: 0.954\n",
      "Epoch 3/250.. Training Loss: 0.124.. Validation Loss: 0.134.. Accuracy: 0.958\n",
      "Epoch 3/250.. Training Loss: 0.144.. Validation Loss: 0.142.. Accuracy: 0.955\n",
      "Epoch 3/250.. Training Loss: 0.130.. Validation Loss: 0.142.. Accuracy: 0.955\n",
      "Epoch 3/250.. Training Loss: 0.148.. Validation Loss: 0.169.. Accuracy: 0.949\n",
      "Epoch 3/250.. Training Loss: 0.137.. Validation Loss: 0.135.. Accuracy: 0.957\n",
      "Epoch 3/250.. Training Loss: 0.105.. Validation Loss: 0.128.. Accuracy: 0.960\n",
      "Epoch 3/250.. Training Loss: 0.191.. Validation Loss: 0.138.. Accuracy: 0.958\n",
      "Epoch 3/250.. Training Loss: 0.139.. Validation Loss: 0.178.. Accuracy: 0.943\n",
      "Epoch 3/250.. Training Loss: 0.108.. Validation Loss: 0.138.. Accuracy: 0.956\n",
      "Epoch 3/250.. Training Loss: 0.134.. Validation Loss: 0.129.. Accuracy: 0.960\n",
      "Epoch 3/250.. Training Loss: 0.125.. Validation Loss: 0.132.. Accuracy: 0.959\n",
      "Epoch 3/250.. Training Loss: 0.134.. Validation Loss: 0.122.. Accuracy: 0.961\n",
      "Epoch 3/250.. Training Loss: 0.131.. Validation Loss: 0.135.. Accuracy: 0.959\n",
      "Epoch 3/250.. Training Loss: 0.164.. Validation Loss: 0.142.. Accuracy: 0.958\n",
      "Epoch 3/250.. Training Loss: 0.151.. Validation Loss: 0.133.. Accuracy: 0.959\n",
      "Epoch 3/250.. Training Loss: 0.119.. Validation Loss: 0.129.. Accuracy: 0.958\n",
      "Epoch 3/250.. Training Loss: 0.144.. Validation Loss: 0.132.. Accuracy: 0.958\n",
      "Epoch 3/250.. Training Loss: 0.116.. Validation Loss: 0.118.. Accuracy: 0.961\n",
      "Epoch 3/250.. Training Loss: 0.116.. Validation Loss: 0.137.. Accuracy: 0.957\n",
      "Epoch 3/250.. Training Loss: 0.107.. Validation Loss: 0.127.. Accuracy: 0.959\n",
      "Epoch 3/250.. Training Loss: 0.133.. Validation Loss: 0.119.. Accuracy: 0.964\n",
      "Epoch 3/250.. Training Loss: 0.144.. Validation Loss: 0.123.. Accuracy: 0.962\n",
      "Epoch 3/250.. Training Loss: 0.100.. Validation Loss: 0.134.. Accuracy: 0.959\n",
      "Epoch 3/250.. Training Loss: 0.170.. Validation Loss: 0.117.. Accuracy: 0.963\n",
      "Epoch 3/250.. Training Loss: 0.158.. Validation Loss: 0.164.. Accuracy: 0.947\n",
      "Epoch 3/250.. Training Loss: 0.157.. Validation Loss: 0.125.. Accuracy: 0.961\n",
      "Epoch 3/250.. Training Loss: 0.120.. Validation Loss: 0.124.. Accuracy: 0.961\n",
      "Epoch 3/250.. Training Loss: 0.139.. Validation Loss: 0.114.. Accuracy: 0.964\n",
      "Epoch 3/250.. Training Loss: 0.120.. Validation Loss: 0.128.. Accuracy: 0.959\n",
      "Epoch 3/250.. Training Loss: 0.095.. Validation Loss: 0.119.. Accuracy: 0.962\n",
      "Epoch 3/250.. Training Loss: 0.119.. Validation Loss: 0.120.. Accuracy: 0.963\n",
      "Epoch 3/250.. Training Loss: 0.104.. Validation Loss: 0.134.. Accuracy: 0.958\n",
      "Epoch 3/250.. Training Loss: 0.117.. Validation Loss: 0.136.. Accuracy: 0.956\n",
      "Epoch 3/250.. Training Loss: 0.091.. Validation Loss: 0.121.. Accuracy: 0.961\n",
      "Epoch 3/250.. Training Loss: 0.094.. Validation Loss: 0.119.. Accuracy: 0.963\n",
      "Epoch 3/250.. Training Loss: 0.109.. Validation Loss: 0.125.. Accuracy: 0.962\n",
      "Epoch 3/250.. Training Loss: 0.115.. Validation Loss: 0.113.. Accuracy: 0.965\n",
      "Epoch 3/250.. Training Loss: 0.141.. Validation Loss: 0.122.. Accuracy: 0.961\n",
      "Epoch 3/250.. Training Loss: 0.128.. Validation Loss: 0.125.. Accuracy: 0.959\n",
      "Epoch 3/250.. Training Loss: 0.146.. Validation Loss: 0.137.. Accuracy: 0.959\n",
      "Epoch 3/250.. Training Loss: 0.182.. Validation Loss: 0.134.. Accuracy: 0.958\n",
      "Epoch 3/250.. Training Loss: 0.133.. Validation Loss: 0.116.. Accuracy: 0.966\n",
      "Epoch 3/250.. Training Loss: 0.139.. Validation Loss: 0.115.. Accuracy: 0.965\n",
      "Epoch 3/250.. Training Loss: 0.116.. Validation Loss: 0.116.. Accuracy: 0.964\n",
      "Epoch 3/250.. Training Loss: 0.103.. Validation Loss: 0.109.. Accuracy: 0.964\n",
      "Epoch 4/250.. Training Loss: 0.087.. Validation Loss: 0.112.. Accuracy: 0.964\n",
      "Epoch 4/250.. Training Loss: 0.124.. Validation Loss: 0.116.. Accuracy: 0.964\n",
      "Epoch 4/250.. Training Loss: 0.132.. Validation Loss: 0.119.. Accuracy: 0.962\n",
      "Epoch 4/250.. Training Loss: 0.078.. Validation Loss: 0.121.. Accuracy: 0.962\n",
      "Epoch 4/250.. Training Loss: 0.088.. Validation Loss: 0.114.. Accuracy: 0.963\n",
      "Epoch 4/250.. Training Loss: 0.096.. Validation Loss: 0.118.. Accuracy: 0.962\n",
      "Epoch 4/250.. Training Loss: 0.116.. Validation Loss: 0.135.. Accuracy: 0.957\n",
      "Epoch 4/250.. Training Loss: 0.124.. Validation Loss: 0.110.. Accuracy: 0.965\n",
      "Epoch 4/250.. Training Loss: 0.119.. Validation Loss: 0.120.. Accuracy: 0.961\n",
      "Epoch 4/250.. Training Loss: 0.094.. Validation Loss: 0.129.. Accuracy: 0.959\n",
      "Epoch 4/250.. Training Loss: 0.075.. Validation Loss: 0.129.. Accuracy: 0.960\n",
      "Epoch 4/250.. Training Loss: 0.118.. Validation Loss: 0.130.. Accuracy: 0.960\n",
      "Epoch 4/250.. Training Loss: 0.145.. Validation Loss: 0.137.. Accuracy: 0.959\n",
      "Epoch 4/250.. Training Loss: 0.082.. Validation Loss: 0.131.. Accuracy: 0.959\n",
      "Epoch 4/250.. Training Loss: 0.090.. Validation Loss: 0.129.. Accuracy: 0.960\n",
      "Epoch 4/250.. Training Loss: 0.094.. Validation Loss: 0.130.. Accuracy: 0.962\n",
      "Epoch 4/250.. Training Loss: 0.121.. Validation Loss: 0.121.. Accuracy: 0.962\n",
      "Epoch 4/250.. Training Loss: 0.121.. Validation Loss: 0.111.. Accuracy: 0.965\n",
      "Epoch 4/250.. Training Loss: 0.110.. Validation Loss: 0.115.. Accuracy: 0.964\n",
      "Epoch 4/250.. Training Loss: 0.128.. Validation Loss: 0.156.. Accuracy: 0.948\n",
      "Epoch 4/250.. Training Loss: 0.143.. Validation Loss: 0.131.. Accuracy: 0.959\n",
      "Epoch 4/250.. Training Loss: 0.141.. Validation Loss: 0.124.. Accuracy: 0.963\n",
      "Epoch 4/250.. Training Loss: 0.109.. Validation Loss: 0.134.. Accuracy: 0.958\n",
      "Epoch 4/250.. Training Loss: 0.118.. Validation Loss: 0.129.. Accuracy: 0.960\n",
      "Epoch 4/250.. Training Loss: 0.088.. Validation Loss: 0.127.. Accuracy: 0.960\n",
      "Epoch 4/250.. Training Loss: 0.135.. Validation Loss: 0.120.. Accuracy: 0.963\n",
      "Epoch 4/250.. Training Loss: 0.138.. Validation Loss: 0.117.. Accuracy: 0.964\n",
      "Epoch 4/250.. Training Loss: 0.115.. Validation Loss: 0.130.. Accuracy: 0.959\n",
      "Epoch 4/250.. Training Loss: 0.120.. Validation Loss: 0.134.. Accuracy: 0.958\n",
      "Epoch 4/250.. Training Loss: 0.067.. Validation Loss: 0.117.. Accuracy: 0.962\n",
      "Epoch 4/250.. Training Loss: 0.121.. Validation Loss: 0.116.. Accuracy: 0.966\n",
      "Epoch 4/250.. Training Loss: 0.134.. Validation Loss: 0.108.. Accuracy: 0.967\n",
      "Epoch 4/250.. Training Loss: 0.104.. Validation Loss: 0.121.. Accuracy: 0.961\n",
      "Epoch 4/250.. Training Loss: 0.128.. Validation Loss: 0.134.. Accuracy: 0.959\n",
      "Epoch 4/250.. Training Loss: 0.109.. Validation Loss: 0.130.. Accuracy: 0.958\n",
      "Epoch 4/250.. Training Loss: 0.133.. Validation Loss: 0.124.. Accuracy: 0.961\n",
      "Epoch 4/250.. Training Loss: 0.120.. Validation Loss: 0.129.. Accuracy: 0.958\n",
      "Epoch 4/250.. Training Loss: 0.133.. Validation Loss: 0.114.. Accuracy: 0.963\n",
      "Epoch 4/250.. Training Loss: 0.145.. Validation Loss: 0.115.. Accuracy: 0.966\n",
      "Epoch 4/250.. Training Loss: 0.134.. Validation Loss: 0.117.. Accuracy: 0.963\n",
      "Epoch 4/250.. Training Loss: 0.122.. Validation Loss: 0.129.. Accuracy: 0.962\n",
      "Epoch 4/250.. Training Loss: 0.087.. Validation Loss: 0.104.. Accuracy: 0.968\n",
      "Epoch 4/250.. Training Loss: 0.113.. Validation Loss: 0.123.. Accuracy: 0.962\n",
      "Epoch 4/250.. Training Loss: 0.101.. Validation Loss: 0.113.. Accuracy: 0.964\n",
      "Epoch 4/250.. Training Loss: 0.093.. Validation Loss: 0.108.. Accuracy: 0.968\n",
      "Epoch 4/250.. Training Loss: 0.128.. Validation Loss: 0.112.. Accuracy: 0.966\n",
      "Epoch 4/250.. Training Loss: 0.092.. Validation Loss: 0.115.. Accuracy: 0.964\n",
      "Epoch 4/250.. Training Loss: 0.118.. Validation Loss: 0.107.. Accuracy: 0.966\n",
      "Epoch 4/250.. Training Loss: 0.083.. Validation Loss: 0.125.. Accuracy: 0.962\n",
      "Epoch 4/250.. Training Loss: 0.141.. Validation Loss: 0.104.. Accuracy: 0.968\n",
      "Epoch 4/250.. Training Loss: 0.082.. Validation Loss: 0.114.. Accuracy: 0.964\n",
      "Epoch 4/250.. Training Loss: 0.110.. Validation Loss: 0.106.. Accuracy: 0.967\n",
      "Epoch 4/250.. Training Loss: 0.060.. Validation Loss: 0.107.. Accuracy: 0.968\n",
      "Epoch 4/250.. Training Loss: 0.078.. Validation Loss: 0.108.. Accuracy: 0.966\n",
      "Epoch 4/250.. Training Loss: 0.113.. Validation Loss: 0.114.. Accuracy: 0.965\n",
      "Epoch 4/250.. Training Loss: 0.093.. Validation Loss: 0.115.. Accuracy: 0.962\n",
      "Epoch 4/250.. Training Loss: 0.090.. Validation Loss: 0.121.. Accuracy: 0.963\n",
      "Epoch 4/250.. Training Loss: 0.104.. Validation Loss: 0.098.. Accuracy: 0.969\n",
      "Epoch 4/250.. Training Loss: 0.095.. Validation Loss: 0.106.. Accuracy: 0.965\n",
      "Epoch 4/250.. Training Loss: 0.123.. Validation Loss: 0.120.. Accuracy: 0.963\n",
      "Epoch 4/250.. Training Loss: 0.106.. Validation Loss: 0.130.. Accuracy: 0.959\n",
      "Epoch 4/250.. Training Loss: 0.126.. Validation Loss: 0.109.. Accuracy: 0.964\n",
      "Epoch 4/250.. Training Loss: 0.080.. Validation Loss: 0.116.. Accuracy: 0.964\n",
      "Epoch 4/250.. Training Loss: 0.116.. Validation Loss: 0.105.. Accuracy: 0.967\n",
      "Epoch 4/250.. Training Loss: 0.092.. Validation Loss: 0.105.. Accuracy: 0.969\n",
      "Epoch 4/250.. Training Loss: 0.073.. Validation Loss: 0.099.. Accuracy: 0.969\n",
      "Epoch 4/250.. Training Loss: 0.114.. Validation Loss: 0.113.. Accuracy: 0.966\n",
      "Epoch 4/250.. Training Loss: 0.098.. Validation Loss: 0.109.. Accuracy: 0.965\n",
      "Epoch 4/250.. Training Loss: 0.135.. Validation Loss: 0.112.. Accuracy: 0.965\n",
      "Epoch 4/250.. Training Loss: 0.102.. Validation Loss: 0.113.. Accuracy: 0.962\n",
      "Epoch 4/250.. Training Loss: 0.117.. Validation Loss: 0.115.. Accuracy: 0.963\n",
      "Epoch 4/250.. Training Loss: 0.098.. Validation Loss: 0.123.. Accuracy: 0.962\n",
      "Epoch 4/250.. Training Loss: 0.114.. Validation Loss: 0.107.. Accuracy: 0.967\n",
      "Epoch 4/250.. Training Loss: 0.108.. Validation Loss: 0.109.. Accuracy: 0.965\n",
      "Epoch 4/250.. Training Loss: 0.064.. Validation Loss: 0.110.. Accuracy: 0.964\n",
      "Epoch 4/250.. Training Loss: 0.083.. Validation Loss: 0.112.. Accuracy: 0.964\n",
      "Epoch 4/250.. Training Loss: 0.087.. Validation Loss: 0.109.. Accuracy: 0.967\n",
      "Epoch 4/250.. Training Loss: 0.115.. Validation Loss: 0.097.. Accuracy: 0.969\n",
      "Epoch 4/250.. Training Loss: 0.115.. Validation Loss: 0.104.. Accuracy: 0.967\n",
      "Epoch 4/250.. Training Loss: 0.138.. Validation Loss: 0.109.. Accuracy: 0.965\n",
      "Epoch 4/250.. Training Loss: 0.124.. Validation Loss: 0.101.. Accuracy: 0.967\n",
      "Epoch 4/250.. Training Loss: 0.102.. Validation Loss: 0.099.. Accuracy: 0.968\n",
      "Epoch 4/250.. Training Loss: 0.107.. Validation Loss: 0.102.. Accuracy: 0.968\n",
      "Epoch 4/250.. Training Loss: 0.099.. Validation Loss: 0.112.. Accuracy: 0.967\n",
      "Epoch 4/250.. Training Loss: 0.077.. Validation Loss: 0.101.. Accuracy: 0.968\n",
      "Epoch 4/250.. Training Loss: 0.133.. Validation Loss: 0.127.. Accuracy: 0.961\n",
      "Epoch 4/250.. Training Loss: 0.109.. Validation Loss: 0.107.. Accuracy: 0.965\n",
      "Epoch 4/250.. Training Loss: 0.094.. Validation Loss: 0.116.. Accuracy: 0.962\n",
      "Epoch 4/250.. Training Loss: 0.122.. Validation Loss: 0.122.. Accuracy: 0.962\n",
      "Epoch 4/250.. Training Loss: 0.134.. Validation Loss: 0.124.. Accuracy: 0.960\n",
      "Epoch 4/250.. Training Loss: 0.153.. Validation Loss: 0.131.. Accuracy: 0.957\n",
      "Epoch 4/250.. Training Loss: 0.135.. Validation Loss: 0.110.. Accuracy: 0.965\n",
      "Epoch 4/250.. Training Loss: 0.099.. Validation Loss: 0.105.. Accuracy: 0.966\n",
      "Epoch 4/250.. Training Loss: 0.130.. Validation Loss: 0.096.. Accuracy: 0.968\n",
      "Epoch 5/250.. Training Loss: 0.081.. Validation Loss: 0.112.. Accuracy: 0.963\n",
      "Epoch 5/250.. Training Loss: 0.076.. Validation Loss: 0.103.. Accuracy: 0.967\n",
      "Epoch 5/250.. Training Loss: 0.075.. Validation Loss: 0.104.. Accuracy: 0.966\n",
      "Epoch 5/250.. Training Loss: 0.089.. Validation Loss: 0.093.. Accuracy: 0.969\n",
      "Epoch 5/250.. Training Loss: 0.088.. Validation Loss: 0.093.. Accuracy: 0.970\n",
      "Epoch 5/250.. Training Loss: 0.105.. Validation Loss: 0.104.. Accuracy: 0.965\n",
      "Epoch 5/250.. Training Loss: 0.105.. Validation Loss: 0.102.. Accuracy: 0.967\n",
      "Epoch 5/250.. Training Loss: 0.084.. Validation Loss: 0.108.. Accuracy: 0.966\n",
      "Epoch 5/250.. Training Loss: 0.090.. Validation Loss: 0.120.. Accuracy: 0.961\n",
      "Epoch 5/250.. Training Loss: 0.100.. Validation Loss: 0.117.. Accuracy: 0.963\n",
      "Epoch 5/250.. Training Loss: 0.096.. Validation Loss: 0.102.. Accuracy: 0.968\n",
      "Epoch 5/250.. Training Loss: 0.107.. Validation Loss: 0.103.. Accuracy: 0.967\n",
      "Epoch 5/250.. Training Loss: 0.086.. Validation Loss: 0.112.. Accuracy: 0.966\n",
      "Epoch 5/250.. Training Loss: 0.092.. Validation Loss: 0.111.. Accuracy: 0.964\n",
      "Epoch 5/250.. Training Loss: 0.095.. Validation Loss: 0.120.. Accuracy: 0.962\n",
      "Epoch 5/250.. Training Loss: 0.114.. Validation Loss: 0.102.. Accuracy: 0.969\n",
      "Epoch 5/250.. Training Loss: 0.061.. Validation Loss: 0.118.. Accuracy: 0.961\n",
      "Epoch 5/250.. Training Loss: 0.080.. Validation Loss: 0.094.. Accuracy: 0.970\n",
      "Epoch 5/250.. Training Loss: 0.067.. Validation Loss: 0.097.. Accuracy: 0.968\n",
      "Epoch 5/250.. Training Loss: 0.099.. Validation Loss: 0.105.. Accuracy: 0.966\n",
      "Epoch 5/250.. Training Loss: 0.100.. Validation Loss: 0.121.. Accuracy: 0.960\n",
      "Epoch 5/250.. Training Loss: 0.108.. Validation Loss: 0.102.. Accuracy: 0.967\n",
      "Epoch 5/250.. Training Loss: 0.058.. Validation Loss: 0.109.. Accuracy: 0.966\n",
      "Epoch 5/250.. Training Loss: 0.070.. Validation Loss: 0.108.. Accuracy: 0.965\n",
      "Epoch 5/250.. Training Loss: 0.077.. Validation Loss: 0.111.. Accuracy: 0.964\n",
      "Epoch 5/250.. Training Loss: 0.098.. Validation Loss: 0.106.. Accuracy: 0.968\n",
      "Epoch 5/250.. Training Loss: 0.137.. Validation Loss: 0.103.. Accuracy: 0.966\n",
      "Epoch 5/250.. Training Loss: 0.109.. Validation Loss: 0.108.. Accuracy: 0.965\n",
      "Epoch 5/250.. Training Loss: 0.078.. Validation Loss: 0.105.. Accuracy: 0.967\n",
      "Epoch 5/250.. Training Loss: 0.064.. Validation Loss: 0.095.. Accuracy: 0.970\n",
      "Epoch 5/250.. Training Loss: 0.075.. Validation Loss: 0.097.. Accuracy: 0.970\n",
      "Epoch 5/250.. Training Loss: 0.074.. Validation Loss: 0.112.. Accuracy: 0.966\n",
      "Epoch 5/250.. Training Loss: 0.088.. Validation Loss: 0.104.. Accuracy: 0.967\n",
      "Epoch 5/250.. Training Loss: 0.108.. Validation Loss: 0.099.. Accuracy: 0.968\n",
      "Epoch 5/250.. Training Loss: 0.126.. Validation Loss: 0.112.. Accuracy: 0.964\n",
      "Epoch 5/250.. Training Loss: 0.112.. Validation Loss: 0.153.. Accuracy: 0.954\n",
      "Epoch 5/250.. Training Loss: 0.107.. Validation Loss: 0.117.. Accuracy: 0.964\n",
      "Epoch 5/250.. Training Loss: 0.108.. Validation Loss: 0.140.. Accuracy: 0.955\n",
      "Epoch 5/250.. Training Loss: 0.107.. Validation Loss: 0.111.. Accuracy: 0.966\n",
      "Epoch 5/250.. Training Loss: 0.103.. Validation Loss: 0.105.. Accuracy: 0.966\n",
      "Epoch 5/250.. Training Loss: 0.088.. Validation Loss: 0.098.. Accuracy: 0.970\n",
      "Epoch 5/250.. Training Loss: 0.082.. Validation Loss: 0.096.. Accuracy: 0.969\n",
      "Epoch 5/250.. Training Loss: 0.088.. Validation Loss: 0.100.. Accuracy: 0.968\n",
      "Epoch 5/250.. Training Loss: 0.078.. Validation Loss: 0.101.. Accuracy: 0.969\n",
      "Epoch 5/250.. Training Loss: 0.087.. Validation Loss: 0.116.. Accuracy: 0.964\n",
      "Epoch 5/250.. Training Loss: 0.067.. Validation Loss: 0.128.. Accuracy: 0.961\n",
      "Epoch 5/250.. Training Loss: 0.080.. Validation Loss: 0.103.. Accuracy: 0.968\n",
      "Epoch 5/250.. Training Loss: 0.095.. Validation Loss: 0.121.. Accuracy: 0.961\n",
      "Epoch 5/250.. Training Loss: 0.096.. Validation Loss: 0.109.. Accuracy: 0.966\n",
      "Epoch 5/250.. Training Loss: 0.102.. Validation Loss: 0.102.. Accuracy: 0.968\n",
      "Epoch 5/250.. Training Loss: 0.072.. Validation Loss: 0.111.. Accuracy: 0.965\n",
      "Epoch 5/250.. Training Loss: 0.081.. Validation Loss: 0.101.. Accuracy: 0.968\n",
      "Epoch 5/250.. Training Loss: 0.125.. Validation Loss: 0.106.. Accuracy: 0.967\n",
      "Epoch 5/250.. Training Loss: 0.113.. Validation Loss: 0.102.. Accuracy: 0.968\n",
      "Epoch 5/250.. Training Loss: 0.089.. Validation Loss: 0.106.. Accuracy: 0.967\n",
      "Epoch 5/250.. Training Loss: 0.115.. Validation Loss: 0.090.. Accuracy: 0.971\n",
      "Epoch 5/250.. Training Loss: 0.074.. Validation Loss: 0.109.. Accuracy: 0.964\n",
      "Epoch 5/250.. Training Loss: 0.111.. Validation Loss: 0.105.. Accuracy: 0.967\n",
      "Epoch 5/250.. Training Loss: 0.112.. Validation Loss: 0.101.. Accuracy: 0.968\n",
      "Epoch 5/250.. Training Loss: 0.083.. Validation Loss: 0.107.. Accuracy: 0.965\n",
      "Epoch 5/250.. Training Loss: 0.081.. Validation Loss: 0.111.. Accuracy: 0.966\n",
      "Epoch 5/250.. Training Loss: 0.091.. Validation Loss: 0.097.. Accuracy: 0.970\n",
      "Epoch 5/250.. Training Loss: 0.062.. Validation Loss: 0.090.. Accuracy: 0.971\n",
      "Epoch 5/250.. Training Loss: 0.067.. Validation Loss: 0.101.. Accuracy: 0.969\n",
      "Epoch 5/250.. Training Loss: 0.074.. Validation Loss: 0.104.. Accuracy: 0.968\n",
      "Epoch 5/250.. Training Loss: 0.062.. Validation Loss: 0.120.. Accuracy: 0.964\n",
      "Epoch 5/250.. Training Loss: 0.092.. Validation Loss: 0.100.. Accuracy: 0.969\n",
      "Epoch 5/250.. Training Loss: 0.074.. Validation Loss: 0.107.. Accuracy: 0.965\n",
      "Epoch 5/250.. Training Loss: 0.096.. Validation Loss: 0.114.. Accuracy: 0.963\n",
      "Epoch 5/250.. Training Loss: 0.124.. Validation Loss: 0.108.. Accuracy: 0.965\n",
      "Epoch 5/250.. Training Loss: 0.110.. Validation Loss: 0.101.. Accuracy: 0.967\n",
      "Epoch 5/250.. Training Loss: 0.070.. Validation Loss: 0.126.. Accuracy: 0.960\n",
      "Epoch 5/250.. Training Loss: 0.059.. Validation Loss: 0.110.. Accuracy: 0.966\n",
      "Epoch 5/250.. Training Loss: 0.089.. Validation Loss: 0.112.. Accuracy: 0.965\n",
      "Epoch 5/250.. Training Loss: 0.085.. Validation Loss: 0.126.. Accuracy: 0.960\n",
      "Epoch 5/250.. Training Loss: 0.095.. Validation Loss: 0.103.. Accuracy: 0.968\n"
     ]
    },
    {
     "ename": "KeyboardInterrupt",
     "evalue": "",
     "output_type": "error",
     "traceback": [
      "\u001b[0;31m---------------------------------------------------------------------------\u001b[0m",
      "\u001b[0;31mKeyboardInterrupt\u001b[0m                         Traceback (most recent call last)",
      "Cell \u001b[0;32mIn[33], line 32\u001b[0m\n\u001b[1;32m     30\u001b[0m model\u001b[38;5;241m.\u001b[39meval()\n\u001b[1;32m     31\u001b[0m \u001b[38;5;28;01mwith\u001b[39;00m torch\u001b[38;5;241m.\u001b[39mno_grad():\n\u001b[0;32m---> 32\u001b[0m     \u001b[38;5;28;01mfor\u001b[39;00m images, labels \u001b[38;5;129;01min\u001b[39;00m test_loader:\n\u001b[1;32m     33\u001b[0m         images, labels \u001b[38;5;241m=\u001b[39m images\u001b[38;5;241m.\u001b[39mto(device), labels\u001b[38;5;241m.\u001b[39mto(device)\n\u001b[1;32m     34\u001b[0m         images\u001b[38;5;241m.\u001b[39mrequires_grad \u001b[38;5;241m=\u001b[39m \u001b[38;5;28;01mTrue\u001b[39;00m\n",
      "File \u001b[0;32m~/anaconda3/envs/pytorch_p310/lib/python3.10/site-packages/torch/utils/data/dataloader.py:633\u001b[0m, in \u001b[0;36m_BaseDataLoaderIter.__next__\u001b[0;34m(self)\u001b[0m\n\u001b[1;32m    630\u001b[0m \u001b[38;5;28;01mif\u001b[39;00m \u001b[38;5;28mself\u001b[39m\u001b[38;5;241m.\u001b[39m_sampler_iter \u001b[38;5;129;01mis\u001b[39;00m \u001b[38;5;28;01mNone\u001b[39;00m:\n\u001b[1;32m    631\u001b[0m     \u001b[38;5;66;03m# TODO(https://github.com/pytorch/pytorch/issues/76750)\u001b[39;00m\n\u001b[1;32m    632\u001b[0m     \u001b[38;5;28mself\u001b[39m\u001b[38;5;241m.\u001b[39m_reset()  \u001b[38;5;66;03m# type: ignore[call-arg]\u001b[39;00m\n\u001b[0;32m--> 633\u001b[0m data \u001b[38;5;241m=\u001b[39m \u001b[38;5;28;43mself\u001b[39;49m\u001b[38;5;241;43m.\u001b[39;49m\u001b[43m_next_data\u001b[49m\u001b[43m(\u001b[49m\u001b[43m)\u001b[49m\n\u001b[1;32m    634\u001b[0m \u001b[38;5;28mself\u001b[39m\u001b[38;5;241m.\u001b[39m_num_yielded \u001b[38;5;241m+\u001b[39m\u001b[38;5;241m=\u001b[39m \u001b[38;5;241m1\u001b[39m\n\u001b[1;32m    635\u001b[0m \u001b[38;5;28;01mif\u001b[39;00m \u001b[38;5;28mself\u001b[39m\u001b[38;5;241m.\u001b[39m_dataset_kind \u001b[38;5;241m==\u001b[39m _DatasetKind\u001b[38;5;241m.\u001b[39mIterable \u001b[38;5;129;01mand\u001b[39;00m \\\n\u001b[1;32m    636\u001b[0m         \u001b[38;5;28mself\u001b[39m\u001b[38;5;241m.\u001b[39m_IterableDataset_len_called \u001b[38;5;129;01mis\u001b[39;00m \u001b[38;5;129;01mnot\u001b[39;00m \u001b[38;5;28;01mNone\u001b[39;00m \u001b[38;5;129;01mand\u001b[39;00m \\\n\u001b[1;32m    637\u001b[0m         \u001b[38;5;28mself\u001b[39m\u001b[38;5;241m.\u001b[39m_num_yielded \u001b[38;5;241m>\u001b[39m \u001b[38;5;28mself\u001b[39m\u001b[38;5;241m.\u001b[39m_IterableDataset_len_called:\n",
      "File \u001b[0;32m~/anaconda3/envs/pytorch_p310/lib/python3.10/site-packages/torch/utils/data/dataloader.py:677\u001b[0m, in \u001b[0;36m_SingleProcessDataLoaderIter._next_data\u001b[0;34m(self)\u001b[0m\n\u001b[1;32m    675\u001b[0m \u001b[38;5;28;01mdef\u001b[39;00m \u001b[38;5;21m_next_data\u001b[39m(\u001b[38;5;28mself\u001b[39m):\n\u001b[1;32m    676\u001b[0m     index \u001b[38;5;241m=\u001b[39m \u001b[38;5;28mself\u001b[39m\u001b[38;5;241m.\u001b[39m_next_index()  \u001b[38;5;66;03m# may raise StopIteration\u001b[39;00m\n\u001b[0;32m--> 677\u001b[0m     data \u001b[38;5;241m=\u001b[39m \u001b[38;5;28;43mself\u001b[39;49m\u001b[38;5;241;43m.\u001b[39;49m\u001b[43m_dataset_fetcher\u001b[49m\u001b[38;5;241;43m.\u001b[39;49m\u001b[43mfetch\u001b[49m\u001b[43m(\u001b[49m\u001b[43mindex\u001b[49m\u001b[43m)\u001b[49m  \u001b[38;5;66;03m# may raise StopIteration\u001b[39;00m\n\u001b[1;32m    678\u001b[0m     \u001b[38;5;28;01mif\u001b[39;00m \u001b[38;5;28mself\u001b[39m\u001b[38;5;241m.\u001b[39m_pin_memory:\n\u001b[1;32m    679\u001b[0m         data \u001b[38;5;241m=\u001b[39m _utils\u001b[38;5;241m.\u001b[39mpin_memory\u001b[38;5;241m.\u001b[39mpin_memory(data, \u001b[38;5;28mself\u001b[39m\u001b[38;5;241m.\u001b[39m_pin_memory_device)\n",
      "File \u001b[0;32m~/anaconda3/envs/pytorch_p310/lib/python3.10/site-packages/torch/utils/data/_utils/fetch.py:51\u001b[0m, in \u001b[0;36m_MapDatasetFetcher.fetch\u001b[0;34m(self, possibly_batched_index)\u001b[0m\n\u001b[1;32m     49\u001b[0m         data \u001b[38;5;241m=\u001b[39m \u001b[38;5;28mself\u001b[39m\u001b[38;5;241m.\u001b[39mdataset\u001b[38;5;241m.\u001b[39m__getitems__(possibly_batched_index)\n\u001b[1;32m     50\u001b[0m     \u001b[38;5;28;01melse\u001b[39;00m:\n\u001b[0;32m---> 51\u001b[0m         data \u001b[38;5;241m=\u001b[39m [\u001b[38;5;28mself\u001b[39m\u001b[38;5;241m.\u001b[39mdataset[idx] \u001b[38;5;28;01mfor\u001b[39;00m idx \u001b[38;5;129;01min\u001b[39;00m possibly_batched_index]\n\u001b[1;32m     52\u001b[0m \u001b[38;5;28;01melse\u001b[39;00m:\n\u001b[1;32m     53\u001b[0m     data \u001b[38;5;241m=\u001b[39m \u001b[38;5;28mself\u001b[39m\u001b[38;5;241m.\u001b[39mdataset[possibly_batched_index]\n",
      "File \u001b[0;32m~/anaconda3/envs/pytorch_p310/lib/python3.10/site-packages/torch/utils/data/_utils/fetch.py:51\u001b[0m, in \u001b[0;36m<listcomp>\u001b[0;34m(.0)\u001b[0m\n\u001b[1;32m     49\u001b[0m         data \u001b[38;5;241m=\u001b[39m \u001b[38;5;28mself\u001b[39m\u001b[38;5;241m.\u001b[39mdataset\u001b[38;5;241m.\u001b[39m__getitems__(possibly_batched_index)\n\u001b[1;32m     50\u001b[0m     \u001b[38;5;28;01melse\u001b[39;00m:\n\u001b[0;32m---> 51\u001b[0m         data \u001b[38;5;241m=\u001b[39m [\u001b[38;5;28;43mself\u001b[39;49m\u001b[38;5;241;43m.\u001b[39;49m\u001b[43mdataset\u001b[49m\u001b[43m[\u001b[49m\u001b[43midx\u001b[49m\u001b[43m]\u001b[49m \u001b[38;5;28;01mfor\u001b[39;00m idx \u001b[38;5;129;01min\u001b[39;00m possibly_batched_index]\n\u001b[1;32m     52\u001b[0m \u001b[38;5;28;01melse\u001b[39;00m:\n\u001b[1;32m     53\u001b[0m     data \u001b[38;5;241m=\u001b[39m \u001b[38;5;28mself\u001b[39m\u001b[38;5;241m.\u001b[39mdataset[possibly_batched_index]\n",
      "File \u001b[0;32m~/anaconda3/envs/pytorch_p310/lib/python3.10/site-packages/torchvision/datasets/mnist.py:138\u001b[0m, in \u001b[0;36mMNIST.__getitem__\u001b[0;34m(self, index)\u001b[0m\n\u001b[1;32m    130\u001b[0m \u001b[38;5;28;01mdef\u001b[39;00m \u001b[38;5;21m__getitem__\u001b[39m(\u001b[38;5;28mself\u001b[39m, index: \u001b[38;5;28mint\u001b[39m) \u001b[38;5;241m-\u001b[39m\u001b[38;5;241m>\u001b[39m Tuple[Any, Any]:\n\u001b[1;32m    131\u001b[0m \u001b[38;5;250m    \u001b[39m\u001b[38;5;124;03m\"\"\"\u001b[39;00m\n\u001b[1;32m    132\u001b[0m \u001b[38;5;124;03m    Args:\u001b[39;00m\n\u001b[1;32m    133\u001b[0m \u001b[38;5;124;03m        index (int): Index\u001b[39;00m\n\u001b[0;32m   (...)\u001b[0m\n\u001b[1;32m    136\u001b[0m \u001b[38;5;124;03m        tuple: (image, target) where target is index of the target class.\u001b[39;00m\n\u001b[1;32m    137\u001b[0m \u001b[38;5;124;03m    \"\"\"\u001b[39;00m\n\u001b[0;32m--> 138\u001b[0m     img, target \u001b[38;5;241m=\u001b[39m \u001b[38;5;28mself\u001b[39m\u001b[38;5;241m.\u001b[39mdata[index], \u001b[38;5;28;43mint\u001b[39;49m\u001b[43m(\u001b[49m\u001b[38;5;28;43mself\u001b[39;49m\u001b[38;5;241;43m.\u001b[39;49m\u001b[43mtargets\u001b[49m\u001b[43m[\u001b[49m\u001b[43mindex\u001b[49m\u001b[43m]\u001b[49m\u001b[43m)\u001b[49m\n\u001b[1;32m    140\u001b[0m     \u001b[38;5;66;03m# doing this so that it is consistent with all other datasets\u001b[39;00m\n\u001b[1;32m    141\u001b[0m     \u001b[38;5;66;03m# to return a PIL Image\u001b[39;00m\n\u001b[1;32m    142\u001b[0m     img \u001b[38;5;241m=\u001b[39m Image\u001b[38;5;241m.\u001b[39mfromarray(img\u001b[38;5;241m.\u001b[39mnumpy(), mode\u001b[38;5;241m=\u001b[39m\u001b[38;5;124m\"\u001b[39m\u001b[38;5;124mL\u001b[39m\u001b[38;5;124m\"\u001b[39m)\n",
      "\u001b[0;31mKeyboardInterrupt\u001b[0m: "
     ]
    }
   ],
   "source": [
    "epochs = 250\n",
    "steps = 0\n",
    "train_loss = 0\n",
    "print_every = 10\n",
    "\n",
    "train_loss_history = list()\n",
    "valid_loss_history = list()\n",
    "\n",
    "for epoch in range(epochs):\n",
    "    for images, labels in train_loader:\n",
    "        steps += 1\n",
    "\n",
    "        images, labels = images.to(device), labels.to(device)\n",
    "        images.requires_grad = True\n",
    "\n",
    "        optimizer.zero_grad()\n",
    "        logits = model(images)\n",
    "        loss = criterion(logits, labels)\n",
    "\n",
    "        loss.backward()\n",
    "        optimizer.step()\n",
    "\n",
    "        train_loss += loss.item()\n",
    "\n",
    "        train_loss_history.append(train_loss/len(train_loader))\n",
    "\n",
    "        if steps % print_every == 0:\n",
    "            valid_loss = 0\n",
    "            accuracy = 0\n",
    "            model.eval()\n",
    "            with torch.no_grad():\n",
    "                for images, labels in test_loader:\n",
    "                    images, labels = images.to(device), labels.to(device)\n",
    "                    images.requires_grad = True\n",
    "\n",
    "                    logits = model(images)\n",
    "                    batch_loss = criterion(logits, labels)\n",
    "                    valid_loss += batch_loss.item()\n",
    "\n",
    "                    valid_loss_history.append(valid_loss/len(test_loader))\n",
    "\n",
    "                    # Calculate accuracy\n",
    "                    probs = torch.exp(logits)\n",
    "                    _, top_class = probs.topk(1, dim=1)\n",
    "                    equals = top_class == labels.view(*top_class.shape)\n",
    "                    accuracy += torch.mean(equals.type(torch.FloatTensor)).item()\n",
    "\n",
    "            print(f\"Epoch {epoch+1}/{epochs}.. \"\n",
    "                  f\"Training Loss: {train_loss/print_every:.3f}.. \"\n",
    "                  f\"Validation Loss: {valid_loss/len(test_loader):.3f}.. \"\n",
    "                  f\"Accuracy: {accuracy/len(test_loader):.3f}\")\n",
    "            train_loss = 0\n",
    "            model.train()\n"
   ]
  },
  {
   "cell_type": "markdown",
   "metadata": {},
   "source": [
    "Plot the training loss (and validation loss/accuracy, if recorded)."
   ]
  },
  {
   "cell_type": "code",
   "execution_count": 34,
   "metadata": {},
   "outputs": [
    {
     "data": {
      "image/png": "[encoded data removed]",
      "text/plain": [
       "<Figure size 640x480 with 1 Axes>"
      ]
     },
     "metadata": {},
     "output_type": "display_data"
    }
   ],
   "source": [
    "## YOUR CODE HERE ##\n",
    "plt.plot(train_loss_history, label=\"Training Loss\")\n",
    "plt.plot(valid_loss_history, label=\"Validation Loss\")\n",
    "plt.legend()\n",
    "plt.show()"
   ]
  },
  {
   "cell_type": "markdown",
   "metadata": {},
   "source": [
    "## Testing your model\n",
    "Using the previously created `DataLoader` for the test set, compute the percentage of correct predictions using the highest probability prediction. \n",
    "\n",
    "If your accuracy is over 90%, great work, but see if you can push a bit further! \n",
    "If your accuracy is under 90%, you'll need to make improvements.\n",
    "Go back and check your model architecture, loss function, and optimizer to make sure they're appropriate for an image classification task."
   ]
  },
  {
   "cell_type": "code",
   "execution_count": 35,
   "metadata": {},
   "outputs": [
    {
     "name": "stdout",
     "output_type": "stream",
     "text": [
      "Test accuracy: 0.96785\n"
     ]
    }
   ],
   "source": [
    "## YOUR CODE HERE ##\n",
    "test_loss = 0\n",
    "accuracy = 0\n",
    "\n",
    "with torch.no_grad():\n",
    "    for images, labels in test_loader:\n",
    "        images, labels = images.to(device), labels.to(device)\n",
    "        images.requires_grad = True\n",
    "\n",
    "        logits = model(images)\n",
    "        batch_loss = criterion(logits, labels)\n",
    "\n",
    "        test_loss += batch_loss.item()\n",
    "\n",
    "        # Calculate accuracy\n",
    "        probs = torch.exp(logits)\n",
    "        _, top_class = probs.topk(1, dim=1)\n",
    "        equals = top_class == labels.view(*top_class.shape)\n",
    "        accuracy += torch.mean(equals.type(torch.FloatTensor)).item()\n",
    "\n",
    "print(f\"Test accuracy: {accuracy/len(test_loader):.5f}\")\n",
    "\n"
   ]
  },
  {
   "cell_type": "markdown",
   "metadata": {},
   "source": [
    "## Improving your model\n",
    "\n",
    "Once your model is done training, try tweaking your hyperparameters and training again below to improve your accuracy on the test set!"
   ]
  },
  {
   "cell_type": "code",
   "execution_count": 36,
   "metadata": {},
   "outputs": [
    {
     "name": "stdout",
     "output_type": "stream",
     "text": [
      "Epoch 1/250.. Training Loss: 0.090.. Validation Loss: 0.094.. Accuracy: 0.971\n",
      "Epoch 1/250.. Training Loss: 0.069.. Validation Loss: 0.089.. Accuracy: 0.972\n",
      "Epoch 1/250.. Training Loss: 0.078.. Validation Loss: 0.089.. Accuracy: 0.973\n",
      "Epoch 1/250.. Training Loss: 0.065.. Validation Loss: 0.089.. Accuracy: 0.972\n",
      "Epoch 1/250.. Training Loss: 0.060.. Validation Loss: 0.089.. Accuracy: 0.971\n",
      "Epoch 1/250.. Training Loss: 0.063.. Validation Loss: 0.085.. Accuracy: 0.974\n",
      "Epoch 1/250.. Training Loss: 0.070.. Validation Loss: 0.085.. Accuracy: 0.973\n",
      "Epoch 1/250.. Training Loss: 0.038.. Validation Loss: 0.084.. Accuracy: 0.973\n",
      "Epoch 1/250.. Training Loss: 0.063.. Validation Loss: 0.082.. Accuracy: 0.974\n",
      "Epoch 1/250.. Training Loss: 0.066.. Validation Loss: 0.085.. Accuracy: 0.973\n",
      "Epoch 1/250.. Training Loss: 0.042.. Validation Loss: 0.084.. Accuracy: 0.974\n",
      "Epoch 1/250.. Training Loss: 0.072.. Validation Loss: 0.081.. Accuracy: 0.974\n",
      "Epoch 1/250.. Training Loss: 0.073.. Validation Loss: 0.082.. Accuracy: 0.974\n",
      "Epoch 1/250.. Training Loss: 0.077.. Validation Loss: 0.088.. Accuracy: 0.972\n",
      "Epoch 1/250.. Training Loss: 0.050.. Validation Loss: 0.085.. Accuracy: 0.973\n",
      "Epoch 1/250.. Training Loss: 0.066.. Validation Loss: 0.082.. Accuracy: 0.973\n",
      "Epoch 1/250.. Training Loss: 0.057.. Validation Loss: 0.082.. Accuracy: 0.974\n",
      "Epoch 1/250.. Training Loss: 0.052.. Validation Loss: 0.081.. Accuracy: 0.974\n",
      "Epoch 1/250.. Training Loss: 0.067.. Validation Loss: 0.080.. Accuracy: 0.974\n",
      "Epoch 1/250.. Training Loss: 0.065.. Validation Loss: 0.082.. Accuracy: 0.974\n",
      "Epoch 1/250.. Training Loss: 0.064.. Validation Loss: 0.082.. Accuracy: 0.974\n",
      "Epoch 1/250.. Training Loss: 0.068.. Validation Loss: 0.080.. Accuracy: 0.973\n",
      "Epoch 1/250.. Training Loss: 0.057.. Validation Loss: 0.079.. Accuracy: 0.975\n",
      "Epoch 1/250.. Training Loss: 0.061.. Validation Loss: 0.079.. Accuracy: 0.975\n",
      "Epoch 1/250.. Training Loss: 0.071.. Validation Loss: 0.079.. Accuracy: 0.974\n",
      "Epoch 1/250.. Training Loss: 0.063.. Validation Loss: 0.081.. Accuracy: 0.973\n",
      "Epoch 1/250.. Training Loss: 0.050.. Validation Loss: 0.080.. Accuracy: 0.974\n",
      "Epoch 1/250.. Training Loss: 0.066.. Validation Loss: 0.084.. Accuracy: 0.973\n",
      "Epoch 1/250.. Training Loss: 0.049.. Validation Loss: 0.083.. Accuracy: 0.973\n",
      "Epoch 1/250.. Training Loss: 0.054.. Validation Loss: 0.081.. Accuracy: 0.974\n",
      "Epoch 1/250.. Training Loss: 0.065.. Validation Loss: 0.081.. Accuracy: 0.973\n",
      "Epoch 1/250.. Training Loss: 0.075.. Validation Loss: 0.081.. Accuracy: 0.974\n",
      "Epoch 1/250.. Training Loss: 0.062.. Validation Loss: 0.083.. Accuracy: 0.973\n",
      "Epoch 1/250.. Training Loss: 0.042.. Validation Loss: 0.084.. Accuracy: 0.973\n",
      "Epoch 1/250.. Training Loss: 0.033.. Validation Loss: 0.081.. Accuracy: 0.974\n",
      "Epoch 1/250.. Training Loss: 0.070.. Validation Loss: 0.081.. Accuracy: 0.975\n",
      "Epoch 1/250.. Training Loss: 0.062.. Validation Loss: 0.083.. Accuracy: 0.974\n",
      "Epoch 1/250.. Training Loss: 0.059.. Validation Loss: 0.082.. Accuracy: 0.974\n",
      "Epoch 1/250.. Training Loss: 0.040.. Validation Loss: 0.079.. Accuracy: 0.974\n",
      "Epoch 1/250.. Training Loss: 0.044.. Validation Loss: 0.080.. Accuracy: 0.974\n",
      "Epoch 1/250.. Training Loss: 0.039.. Validation Loss: 0.078.. Accuracy: 0.975\n",
      "Epoch 1/250.. Training Loss: 0.058.. Validation Loss: 0.080.. Accuracy: 0.974\n",
      "Epoch 1/250.. Training Loss: 0.065.. Validation Loss: 0.079.. Accuracy: 0.974\n",
      "Epoch 1/250.. Training Loss: 0.077.. Validation Loss: 0.078.. Accuracy: 0.974\n",
      "Epoch 1/250.. Training Loss: 0.047.. Validation Loss: 0.081.. Accuracy: 0.974\n",
      "Epoch 1/250.. Training Loss: 0.058.. Validation Loss: 0.081.. Accuracy: 0.974\n",
      "Epoch 1/250.. Training Loss: 0.057.. Validation Loss: 0.081.. Accuracy: 0.975\n",
      "Epoch 1/250.. Training Loss: 0.031.. Validation Loss: 0.081.. Accuracy: 0.974\n",
      "Epoch 1/250.. Training Loss: 0.050.. Validation Loss: 0.079.. Accuracy: 0.975\n",
      "Epoch 1/250.. Training Loss: 0.063.. Validation Loss: 0.079.. Accuracy: 0.975\n",
      "Epoch 1/250.. Training Loss: 0.035.. Validation Loss: 0.081.. Accuracy: 0.975\n",
      "Epoch 1/250.. Training Loss: 0.070.. Validation Loss: 0.081.. Accuracy: 0.973\n",
      "Epoch 1/250.. Training Loss: 0.074.. Validation Loss: 0.083.. Accuracy: 0.973\n",
      "Epoch 1/250.. Training Loss: 0.059.. Validation Loss: 0.080.. Accuracy: 0.974\n",
      "Epoch 1/250.. Training Loss: 0.037.. Validation Loss: 0.078.. Accuracy: 0.975\n",
      "Epoch 1/250.. Training Loss: 0.073.. Validation Loss: 0.079.. Accuracy: 0.974\n",
      "Epoch 1/250.. Training Loss: 0.052.. Validation Loss: 0.077.. Accuracy: 0.975\n",
      "Epoch 1/250.. Training Loss: 0.100.. Validation Loss: 0.080.. Accuracy: 0.973\n",
      "Epoch 1/250.. Training Loss: 0.058.. Validation Loss: 0.077.. Accuracy: 0.975\n",
      "Epoch 1/250.. Training Loss: 0.052.. Validation Loss: 0.077.. Accuracy: 0.975\n",
      "Epoch 1/250.. Training Loss: 0.068.. Validation Loss: 0.083.. Accuracy: 0.972\n",
      "Epoch 1/250.. Training Loss: 0.059.. Validation Loss: 0.081.. Accuracy: 0.973\n",
      "Epoch 1/250.. Training Loss: 0.085.. Validation Loss: 0.078.. Accuracy: 0.974\n",
      "Epoch 1/250.. Training Loss: 0.059.. Validation Loss: 0.078.. Accuracy: 0.975\n",
      "Epoch 1/250.. Training Loss: 0.078.. Validation Loss: 0.078.. Accuracy: 0.975\n",
      "Epoch 1/250.. Training Loss: 0.074.. Validation Loss: 0.080.. Accuracy: 0.974\n",
      "Epoch 1/250.. Training Loss: 0.059.. Validation Loss: 0.079.. Accuracy: 0.975\n",
      "Epoch 1/250.. Training Loss: 0.064.. Validation Loss: 0.080.. Accuracy: 0.975\n",
      "Epoch 1/250.. Training Loss: 0.038.. Validation Loss: 0.079.. Accuracy: 0.975\n",
      "Epoch 1/250.. Training Loss: 0.060.. Validation Loss: 0.081.. Accuracy: 0.974\n",
      "Epoch 1/250.. Training Loss: 0.044.. Validation Loss: 0.079.. Accuracy: 0.975\n",
      "Epoch 1/250.. Training Loss: 0.047.. Validation Loss: 0.078.. Accuracy: 0.975\n",
      "Epoch 1/250.. Training Loss: 0.058.. Validation Loss: 0.080.. Accuracy: 0.974\n",
      "Epoch 1/250.. Training Loss: 0.046.. Validation Loss: 0.080.. Accuracy: 0.974\n",
      "Epoch 1/250.. Training Loss: 0.047.. Validation Loss: 0.078.. Accuracy: 0.975\n",
      "Epoch 1/250.. Training Loss: 0.049.. Validation Loss: 0.079.. Accuracy: 0.974\n",
      "Epoch 1/250.. Training Loss: 0.055.. Validation Loss: 0.078.. Accuracy: 0.975\n",
      "Epoch 1/250.. Training Loss: 0.075.. Validation Loss: 0.079.. Accuracy: 0.973\n",
      "Epoch 1/250.. Training Loss: 0.044.. Validation Loss: 0.078.. Accuracy: 0.974\n",
      "Epoch 1/250.. Training Loss: 0.097.. Validation Loss: 0.078.. Accuracy: 0.975\n",
      "Epoch 1/250.. Training Loss: 0.068.. Validation Loss: 0.078.. Accuracy: 0.975\n",
      "Epoch 1/250.. Training Loss: 0.056.. Validation Loss: 0.077.. Accuracy: 0.975\n",
      "Epoch 1/250.. Training Loss: 0.058.. Validation Loss: 0.077.. Accuracy: 0.975\n",
      "Epoch 1/250.. Training Loss: 0.044.. Validation Loss: 0.080.. Accuracy: 0.974\n",
      "Epoch 1/250.. Training Loss: 0.037.. Validation Loss: 0.077.. Accuracy: 0.975\n",
      "Epoch 1/250.. Training Loss: 0.054.. Validation Loss: 0.077.. Accuracy: 0.975\n",
      "Epoch 1/250.. Training Loss: 0.067.. Validation Loss: 0.075.. Accuracy: 0.976\n",
      "Epoch 1/250.. Training Loss: 0.044.. Validation Loss: 0.076.. Accuracy: 0.975\n",
      "Epoch 1/250.. Training Loss: 0.062.. Validation Loss: 0.076.. Accuracy: 0.975\n",
      "Epoch 1/250.. Training Loss: 0.049.. Validation Loss: 0.075.. Accuracy: 0.976\n",
      "Epoch 1/250.. Training Loss: 0.082.. Validation Loss: 0.075.. Accuracy: 0.976\n",
      "Epoch 1/250.. Training Loss: 0.084.. Validation Loss: 0.075.. Accuracy: 0.976\n",
      "Epoch 1/250.. Training Loss: 0.071.. Validation Loss: 0.076.. Accuracy: 0.976\n",
      "Epoch 2/250.. Training Loss: 0.046.. Validation Loss: 0.075.. Accuracy: 0.976\n",
      "Epoch 2/250.. Training Loss: 0.070.. Validation Loss: 0.076.. Accuracy: 0.976\n",
      "Epoch 2/250.. Training Loss: 0.054.. Validation Loss: 0.078.. Accuracy: 0.975\n",
      "Epoch 2/250.. Training Loss: 0.046.. Validation Loss: 0.077.. Accuracy: 0.976\n",
      "Epoch 2/250.. Training Loss: 0.036.. Validation Loss: 0.077.. Accuracy: 0.976\n",
      "Epoch 2/250.. Training Loss: 0.039.. Validation Loss: 0.078.. Accuracy: 0.975\n",
      "Epoch 2/250.. Training Loss: 0.080.. Validation Loss: 0.077.. Accuracy: 0.976\n",
      "Epoch 2/250.. Training Loss: 0.076.. Validation Loss: 0.079.. Accuracy: 0.975\n",
      "Epoch 2/250.. Training Loss: 0.059.. Validation Loss: 0.076.. Accuracy: 0.975\n",
      "Epoch 2/250.. Training Loss: 0.042.. Validation Loss: 0.078.. Accuracy: 0.975\n",
      "Epoch 2/250.. Training Loss: 0.061.. Validation Loss: 0.078.. Accuracy: 0.975\n",
      "Epoch 2/250.. Training Loss: 0.078.. Validation Loss: 0.078.. Accuracy: 0.974\n",
      "Epoch 2/250.. Training Loss: 0.063.. Validation Loss: 0.081.. Accuracy: 0.974\n",
      "Epoch 2/250.. Training Loss: 0.045.. Validation Loss: 0.078.. Accuracy: 0.974\n",
      "Epoch 2/250.. Training Loss: 0.061.. Validation Loss: 0.077.. Accuracy: 0.976\n",
      "Epoch 2/250.. Training Loss: 0.069.. Validation Loss: 0.075.. Accuracy: 0.976\n",
      "Epoch 2/250.. Training Loss: 0.064.. Validation Loss: 0.077.. Accuracy: 0.975\n",
      "Epoch 2/250.. Training Loss: 0.032.. Validation Loss: 0.076.. Accuracy: 0.975\n",
      "Epoch 2/250.. Training Loss: 0.051.. Validation Loss: 0.077.. Accuracy: 0.975\n",
      "Epoch 2/250.. Training Loss: 0.047.. Validation Loss: 0.075.. Accuracy: 0.975\n",
      "Epoch 2/250.. Training Loss: 0.047.. Validation Loss: 0.079.. Accuracy: 0.974\n",
      "Epoch 2/250.. Training Loss: 0.069.. Validation Loss: 0.077.. Accuracy: 0.974\n",
      "Epoch 2/250.. Training Loss: 0.057.. Validation Loss: 0.077.. Accuracy: 0.975\n",
      "Epoch 2/250.. Training Loss: 0.063.. Validation Loss: 0.079.. Accuracy: 0.974\n",
      "Epoch 2/250.. Training Loss: 0.068.. Validation Loss: 0.075.. Accuracy: 0.975\n",
      "Epoch 2/250.. Training Loss: 0.048.. Validation Loss: 0.074.. Accuracy: 0.976\n",
      "Epoch 2/250.. Training Loss: 0.041.. Validation Loss: 0.074.. Accuracy: 0.976\n",
      "Epoch 2/250.. Training Loss: 0.064.. Validation Loss: 0.074.. Accuracy: 0.976\n",
      "Epoch 2/250.. Training Loss: 0.037.. Validation Loss: 0.076.. Accuracy: 0.976\n",
      "Epoch 2/250.. Training Loss: 0.042.. Validation Loss: 0.076.. Accuracy: 0.975\n",
      "Epoch 2/250.. Training Loss: 0.067.. Validation Loss: 0.075.. Accuracy: 0.976\n",
      "Epoch 2/250.. Training Loss: 0.061.. Validation Loss: 0.078.. Accuracy: 0.975\n",
      "Epoch 2/250.. Training Loss: 0.046.. Validation Loss: 0.079.. Accuracy: 0.975\n",
      "Epoch 2/250.. Training Loss: 0.061.. Validation Loss: 0.078.. Accuracy: 0.975\n",
      "Epoch 2/250.. Training Loss: 0.049.. Validation Loss: 0.075.. Accuracy: 0.975\n",
      "Epoch 2/250.. Training Loss: 0.059.. Validation Loss: 0.076.. Accuracy: 0.976\n",
      "Epoch 2/250.. Training Loss: 0.060.. Validation Loss: 0.075.. Accuracy: 0.975\n",
      "Epoch 2/250.. Training Loss: 0.061.. Validation Loss: 0.075.. Accuracy: 0.976\n",
      "Epoch 2/250.. Training Loss: 0.068.. Validation Loss: 0.074.. Accuracy: 0.976\n",
      "Epoch 2/250.. Training Loss: 0.056.. Validation Loss: 0.075.. Accuracy: 0.975\n",
      "Epoch 2/250.. Training Loss: 0.036.. Validation Loss: 0.076.. Accuracy: 0.975\n",
      "Epoch 2/250.. Training Loss: 0.061.. Validation Loss: 0.076.. Accuracy: 0.976\n",
      "Epoch 2/250.. Training Loss: 0.045.. Validation Loss: 0.077.. Accuracy: 0.976\n",
      "Epoch 2/250.. Training Loss: 0.060.. Validation Loss: 0.077.. Accuracy: 0.975\n",
      "Epoch 2/250.. Training Loss: 0.071.. Validation Loss: 0.075.. Accuracy: 0.975\n",
      "Epoch 2/250.. Training Loss: 0.038.. Validation Loss: 0.075.. Accuracy: 0.976\n",
      "Epoch 2/250.. Training Loss: 0.062.. Validation Loss: 0.075.. Accuracy: 0.975\n",
      "Epoch 2/250.. Training Loss: 0.065.. Validation Loss: 0.077.. Accuracy: 0.975\n",
      "Epoch 2/250.. Training Loss: 0.065.. Validation Loss: 0.078.. Accuracy: 0.975\n",
      "Epoch 2/250.. Training Loss: 0.072.. Validation Loss: 0.077.. Accuracy: 0.976\n",
      "Epoch 2/250.. Training Loss: 0.058.. Validation Loss: 0.078.. Accuracy: 0.975\n",
      "Epoch 2/250.. Training Loss: 0.067.. Validation Loss: 0.079.. Accuracy: 0.976\n",
      "Epoch 2/250.. Training Loss: 0.057.. Validation Loss: 0.077.. Accuracy: 0.975\n",
      "Epoch 2/250.. Training Loss: 0.038.. Validation Loss: 0.075.. Accuracy: 0.976\n",
      "Epoch 2/250.. Training Loss: 0.075.. Validation Loss: 0.076.. Accuracy: 0.976\n",
      "Epoch 2/250.. Training Loss: 0.051.. Validation Loss: 0.075.. Accuracy: 0.976\n",
      "Epoch 2/250.. Training Loss: 0.051.. Validation Loss: 0.076.. Accuracy: 0.976\n",
      "Epoch 2/250.. Training Loss: 0.076.. Validation Loss: 0.078.. Accuracy: 0.975\n",
      "Epoch 2/250.. Training Loss: 0.068.. Validation Loss: 0.077.. Accuracy: 0.975\n",
      "Epoch 2/250.. Training Loss: 0.041.. Validation Loss: 0.076.. Accuracy: 0.975\n",
      "Epoch 2/250.. Training Loss: 0.033.. Validation Loss: 0.077.. Accuracy: 0.974\n",
      "Epoch 2/250.. Training Loss: 0.047.. Validation Loss: 0.076.. Accuracy: 0.974\n",
      "Epoch 2/250.. Training Loss: 0.051.. Validation Loss: 0.075.. Accuracy: 0.975\n",
      "Epoch 2/250.. Training Loss: 0.034.. Validation Loss: 0.074.. Accuracy: 0.975\n",
      "Epoch 2/250.. Training Loss: 0.054.. Validation Loss: 0.077.. Accuracy: 0.975\n",
      "Epoch 2/250.. Training Loss: 0.038.. Validation Loss: 0.076.. Accuracy: 0.975\n",
      "Epoch 2/250.. Training Loss: 0.066.. Validation Loss: 0.074.. Accuracy: 0.976\n",
      "Epoch 2/250.. Training Loss: 0.049.. Validation Loss: 0.075.. Accuracy: 0.975\n",
      "Epoch 2/250.. Training Loss: 0.067.. Validation Loss: 0.076.. Accuracy: 0.976\n",
      "Epoch 2/250.. Training Loss: 0.040.. Validation Loss: 0.074.. Accuracy: 0.975\n",
      "Epoch 2/250.. Training Loss: 0.055.. Validation Loss: 0.075.. Accuracy: 0.976\n",
      "Epoch 2/250.. Training Loss: 0.064.. Validation Loss: 0.077.. Accuracy: 0.975\n",
      "Epoch 2/250.. Training Loss: 0.049.. Validation Loss: 0.077.. Accuracy: 0.975\n",
      "Epoch 2/250.. Training Loss: 0.037.. Validation Loss: 0.075.. Accuracy: 0.975\n",
      "Epoch 2/250.. Training Loss: 0.101.. Validation Loss: 0.075.. Accuracy: 0.975\n",
      "Epoch 2/250.. Training Loss: 0.051.. Validation Loss: 0.075.. Accuracy: 0.975\n",
      "Epoch 2/250.. Training Loss: 0.043.. Validation Loss: 0.075.. Accuracy: 0.976\n",
      "Epoch 2/250.. Training Loss: 0.035.. Validation Loss: 0.073.. Accuracy: 0.976\n",
      "Epoch 2/250.. Training Loss: 0.054.. Validation Loss: 0.076.. Accuracy: 0.976\n",
      "Epoch 2/250.. Training Loss: 0.050.. Validation Loss: 0.075.. Accuracy: 0.975\n",
      "Epoch 2/250.. Training Loss: 0.051.. Validation Loss: 0.075.. Accuracy: 0.975\n",
      "Epoch 2/250.. Training Loss: 0.056.. Validation Loss: 0.076.. Accuracy: 0.976\n",
      "Epoch 2/250.. Training Loss: 0.048.. Validation Loss: 0.076.. Accuracy: 0.975\n",
      "Epoch 2/250.. Training Loss: 0.074.. Validation Loss: 0.078.. Accuracy: 0.973\n",
      "Epoch 2/250.. Training Loss: 0.071.. Validation Loss: 0.075.. Accuracy: 0.976\n",
      "Epoch 2/250.. Training Loss: 0.040.. Validation Loss: 0.075.. Accuracy: 0.975\n",
      "Epoch 2/250.. Training Loss: 0.047.. Validation Loss: 0.076.. Accuracy: 0.975\n",
      "Epoch 2/250.. Training Loss: 0.044.. Validation Loss: 0.075.. Accuracy: 0.976\n",
      "Epoch 2/250.. Training Loss: 0.045.. Validation Loss: 0.077.. Accuracy: 0.974\n",
      "Epoch 2/250.. Training Loss: 0.035.. Validation Loss: 0.075.. Accuracy: 0.975\n",
      "Epoch 2/250.. Training Loss: 0.032.. Validation Loss: 0.077.. Accuracy: 0.975\n",
      "Epoch 2/250.. Training Loss: 0.058.. Validation Loss: 0.075.. Accuracy: 0.975\n",
      "Epoch 2/250.. Training Loss: 0.051.. Validation Loss: 0.076.. Accuracy: 0.975\n",
      "Epoch 2/250.. Training Loss: 0.054.. Validation Loss: 0.074.. Accuracy: 0.975\n",
      "Epoch 3/250.. Training Loss: 0.074.. Validation Loss: 0.075.. Accuracy: 0.975\n",
      "Epoch 3/250.. Training Loss: 0.069.. Validation Loss: 0.076.. Accuracy: 0.974\n",
      "Epoch 3/250.. Training Loss: 0.054.. Validation Loss: 0.076.. Accuracy: 0.975\n"
     ]
    },
    {
     "ename": "KeyboardInterrupt",
     "evalue": "",
     "output_type": "error",
     "traceback": [
      "\u001b[0;31m---------------------------------------------------------------------------\u001b[0m",
      "\u001b[0;31mKeyboardInterrupt\u001b[0m                         Traceback (most recent call last)",
      "Cell \u001b[0;32mIn[36], line 43\u001b[0m\n\u001b[1;32m     41\u001b[0m model\u001b[38;5;241m.\u001b[39meval()\n\u001b[1;32m     42\u001b[0m \u001b[38;5;28;01mwith\u001b[39;00m torch\u001b[38;5;241m.\u001b[39mno_grad():\n\u001b[0;32m---> 43\u001b[0m     \u001b[38;5;28;01mfor\u001b[39;00m images, labels \u001b[38;5;129;01min\u001b[39;00m test_loader:\n\u001b[1;32m     44\u001b[0m         images, labels \u001b[38;5;241m=\u001b[39m images\u001b[38;5;241m.\u001b[39mto(device), labels\u001b[38;5;241m.\u001b[39mto(device)\n\u001b[1;32m     45\u001b[0m         images\u001b[38;5;241m.\u001b[39mrequires_grad \u001b[38;5;241m=\u001b[39m \u001b[38;5;28;01mTrue\u001b[39;00m\n",
      "File \u001b[0;32m~/anaconda3/envs/pytorch_p310/lib/python3.10/site-packages/torch/utils/data/dataloader.py:633\u001b[0m, in \u001b[0;36m_BaseDataLoaderIter.__next__\u001b[0;34m(self)\u001b[0m\n\u001b[1;32m    630\u001b[0m \u001b[38;5;28;01mif\u001b[39;00m \u001b[38;5;28mself\u001b[39m\u001b[38;5;241m.\u001b[39m_sampler_iter \u001b[38;5;129;01mis\u001b[39;00m \u001b[38;5;28;01mNone\u001b[39;00m:\n\u001b[1;32m    631\u001b[0m     \u001b[38;5;66;03m# TODO(https://github.com/pytorch/pytorch/issues/76750)\u001b[39;00m\n\u001b[1;32m    632\u001b[0m     \u001b[38;5;28mself\u001b[39m\u001b[38;5;241m.\u001b[39m_reset()  \u001b[38;5;66;03m# type: ignore[call-arg]\u001b[39;00m\n\u001b[0;32m--> 633\u001b[0m data \u001b[38;5;241m=\u001b[39m \u001b[38;5;28;43mself\u001b[39;49m\u001b[38;5;241;43m.\u001b[39;49m\u001b[43m_next_data\u001b[49m\u001b[43m(\u001b[49m\u001b[43m)\u001b[49m\n\u001b[1;32m    634\u001b[0m \u001b[38;5;28mself\u001b[39m\u001b[38;5;241m.\u001b[39m_num_yielded \u001b[38;5;241m+\u001b[39m\u001b[38;5;241m=\u001b[39m \u001b[38;5;241m1\u001b[39m\n\u001b[1;32m    635\u001b[0m \u001b[38;5;28;01mif\u001b[39;00m \u001b[38;5;28mself\u001b[39m\u001b[38;5;241m.\u001b[39m_dataset_kind \u001b[38;5;241m==\u001b[39m _DatasetKind\u001b[38;5;241m.\u001b[39mIterable \u001b[38;5;129;01mand\u001b[39;00m \\\n\u001b[1;32m    636\u001b[0m         \u001b[38;5;28mself\u001b[39m\u001b[38;5;241m.\u001b[39m_IterableDataset_len_called \u001b[38;5;129;01mis\u001b[39;00m \u001b[38;5;129;01mnot\u001b[39;00m \u001b[38;5;28;01mNone\u001b[39;00m \u001b[38;5;129;01mand\u001b[39;00m \\\n\u001b[1;32m    637\u001b[0m         \u001b[38;5;28mself\u001b[39m\u001b[38;5;241m.\u001b[39m_num_yielded \u001b[38;5;241m>\u001b[39m \u001b[38;5;28mself\u001b[39m\u001b[38;5;241m.\u001b[39m_IterableDataset_len_called:\n",
      "File \u001b[0;32m~/anaconda3/envs/pytorch_p310/lib/python3.10/site-packages/torch/utils/data/dataloader.py:677\u001b[0m, in \u001b[0;36m_SingleProcessDataLoaderIter._next_data\u001b[0;34m(self)\u001b[0m\n\u001b[1;32m    675\u001b[0m \u001b[38;5;28;01mdef\u001b[39;00m \u001b[38;5;21m_next_data\u001b[39m(\u001b[38;5;28mself\u001b[39m):\n\u001b[1;32m    676\u001b[0m     index \u001b[38;5;241m=\u001b[39m \u001b[38;5;28mself\u001b[39m\u001b[38;5;241m.\u001b[39m_next_index()  \u001b[38;5;66;03m# may raise StopIteration\u001b[39;00m\n\u001b[0;32m--> 677\u001b[0m     data \u001b[38;5;241m=\u001b[39m \u001b[38;5;28;43mself\u001b[39;49m\u001b[38;5;241;43m.\u001b[39;49m\u001b[43m_dataset_fetcher\u001b[49m\u001b[38;5;241;43m.\u001b[39;49m\u001b[43mfetch\u001b[49m\u001b[43m(\u001b[49m\u001b[43mindex\u001b[49m\u001b[43m)\u001b[49m  \u001b[38;5;66;03m# may raise StopIteration\u001b[39;00m\n\u001b[1;32m    678\u001b[0m     \u001b[38;5;28;01mif\u001b[39;00m \u001b[38;5;28mself\u001b[39m\u001b[38;5;241m.\u001b[39m_pin_memory:\n\u001b[1;32m    679\u001b[0m         data \u001b[38;5;241m=\u001b[39m _utils\u001b[38;5;241m.\u001b[39mpin_memory\u001b[38;5;241m.\u001b[39mpin_memory(data, \u001b[38;5;28mself\u001b[39m\u001b[38;5;241m.\u001b[39m_pin_memory_device)\n",
      "File \u001b[0;32m~/anaconda3/envs/pytorch_p310/lib/python3.10/site-packages/torch/utils/data/_utils/fetch.py:51\u001b[0m, in \u001b[0;36m_MapDatasetFetcher.fetch\u001b[0;34m(self, possibly_batched_index)\u001b[0m\n\u001b[1;32m     49\u001b[0m         data \u001b[38;5;241m=\u001b[39m \u001b[38;5;28mself\u001b[39m\u001b[38;5;241m.\u001b[39mdataset\u001b[38;5;241m.\u001b[39m__getitems__(possibly_batched_index)\n\u001b[1;32m     50\u001b[0m     \u001b[38;5;28;01melse\u001b[39;00m:\n\u001b[0;32m---> 51\u001b[0m         data \u001b[38;5;241m=\u001b[39m [\u001b[38;5;28mself\u001b[39m\u001b[38;5;241m.\u001b[39mdataset[idx] \u001b[38;5;28;01mfor\u001b[39;00m idx \u001b[38;5;129;01min\u001b[39;00m possibly_batched_index]\n\u001b[1;32m     52\u001b[0m \u001b[38;5;28;01melse\u001b[39;00m:\n\u001b[1;32m     53\u001b[0m     data \u001b[38;5;241m=\u001b[39m \u001b[38;5;28mself\u001b[39m\u001b[38;5;241m.\u001b[39mdataset[possibly_batched_index]\n",
      "File \u001b[0;32m~/anaconda3/envs/pytorch_p310/lib/python3.10/site-packages/torch/utils/data/_utils/fetch.py:51\u001b[0m, in \u001b[0;36m<listcomp>\u001b[0;34m(.0)\u001b[0m\n\u001b[1;32m     49\u001b[0m         data \u001b[38;5;241m=\u001b[39m \u001b[38;5;28mself\u001b[39m\u001b[38;5;241m.\u001b[39mdataset\u001b[38;5;241m.\u001b[39m__getitems__(possibly_batched_index)\n\u001b[1;32m     50\u001b[0m     \u001b[38;5;28;01melse\u001b[39;00m:\n\u001b[0;32m---> 51\u001b[0m         data \u001b[38;5;241m=\u001b[39m [\u001b[38;5;28;43mself\u001b[39;49m\u001b[38;5;241;43m.\u001b[39;49m\u001b[43mdataset\u001b[49m\u001b[43m[\u001b[49m\u001b[43midx\u001b[49m\u001b[43m]\u001b[49m \u001b[38;5;28;01mfor\u001b[39;00m idx \u001b[38;5;129;01min\u001b[39;00m possibly_batched_index]\n\u001b[1;32m     52\u001b[0m \u001b[38;5;28;01melse\u001b[39;00m:\n\u001b[1;32m     53\u001b[0m     data \u001b[38;5;241m=\u001b[39m \u001b[38;5;28mself\u001b[39m\u001b[38;5;241m.\u001b[39mdataset[possibly_batched_index]\n",
      "File \u001b[0;32m~/anaconda3/envs/pytorch_p310/lib/python3.10/site-packages/torchvision/datasets/mnist.py:142\u001b[0m, in \u001b[0;36mMNIST.__getitem__\u001b[0;34m(self, index)\u001b[0m\n\u001b[1;32m    138\u001b[0m img, target \u001b[38;5;241m=\u001b[39m \u001b[38;5;28mself\u001b[39m\u001b[38;5;241m.\u001b[39mdata[index], \u001b[38;5;28mint\u001b[39m(\u001b[38;5;28mself\u001b[39m\u001b[38;5;241m.\u001b[39mtargets[index])\n\u001b[1;32m    140\u001b[0m \u001b[38;5;66;03m# doing this so that it is consistent with all other datasets\u001b[39;00m\n\u001b[1;32m    141\u001b[0m \u001b[38;5;66;03m# to return a PIL Image\u001b[39;00m\n\u001b[0;32m--> 142\u001b[0m img \u001b[38;5;241m=\u001b[39m \u001b[43mImage\u001b[49m\u001b[38;5;241;43m.\u001b[39;49m\u001b[43mfromarray\u001b[49m\u001b[43m(\u001b[49m\u001b[43mimg\u001b[49m\u001b[38;5;241;43m.\u001b[39;49m\u001b[43mnumpy\u001b[49m\u001b[43m(\u001b[49m\u001b[43m)\u001b[49m\u001b[43m,\u001b[49m\u001b[43m \u001b[49m\u001b[43mmode\u001b[49m\u001b[38;5;241;43m=\u001b[39;49m\u001b[38;5;124;43m\"\u001b[39;49m\u001b[38;5;124;43mL\u001b[39;49m\u001b[38;5;124;43m\"\u001b[39;49m\u001b[43m)\u001b[49m\n\u001b[1;32m    144\u001b[0m \u001b[38;5;28;01mif\u001b[39;00m \u001b[38;5;28mself\u001b[39m\u001b[38;5;241m.\u001b[39mtransform \u001b[38;5;129;01mis\u001b[39;00m \u001b[38;5;129;01mnot\u001b[39;00m \u001b[38;5;28;01mNone\u001b[39;00m:\n\u001b[1;32m    145\u001b[0m     img \u001b[38;5;241m=\u001b[39m \u001b[38;5;28mself\u001b[39m\u001b[38;5;241m.\u001b[39mtransform(img)\n",
      "File \u001b[0;32m~/anaconda3/envs/pytorch_p310/lib/python3.10/site-packages/PIL/Image.py:3093\u001b[0m, in \u001b[0;36mfromarray\u001b[0;34m(obj, mode)\u001b[0m\n\u001b[1;32m   3090\u001b[0m     \u001b[38;5;28;01melse\u001b[39;00m:\n\u001b[1;32m   3091\u001b[0m         obj \u001b[38;5;241m=\u001b[39m obj\u001b[38;5;241m.\u001b[39mtostring()\n\u001b[0;32m-> 3093\u001b[0m \u001b[38;5;28;01mreturn\u001b[39;00m \u001b[43mfrombuffer\u001b[49m\u001b[43m(\u001b[49m\u001b[43mmode\u001b[49m\u001b[43m,\u001b[49m\u001b[43m \u001b[49m\u001b[43msize\u001b[49m\u001b[43m,\u001b[49m\u001b[43m \u001b[49m\u001b[43mobj\u001b[49m\u001b[43m,\u001b[49m\u001b[43m \u001b[49m\u001b[38;5;124;43m\"\u001b[39;49m\u001b[38;5;124;43mraw\u001b[39;49m\u001b[38;5;124;43m\"\u001b[39;49m\u001b[43m,\u001b[49m\u001b[43m \u001b[49m\u001b[43mrawmode\u001b[49m\u001b[43m,\u001b[49m\u001b[43m \u001b[49m\u001b[38;5;241;43m0\u001b[39;49m\u001b[43m,\u001b[49m\u001b[43m \u001b[49m\u001b[38;5;241;43m1\u001b[39;49m\u001b[43m)\u001b[49m\n",
      "File \u001b[0;32m~/anaconda3/envs/pytorch_p310/lib/python3.10/site-packages/PIL/Image.py:3001\u001b[0m, in \u001b[0;36mfrombuffer\u001b[0;34m(mode, size, data, decoder_name, *args)\u001b[0m\n\u001b[1;32m   2999\u001b[0m \u001b[38;5;28;01mif\u001b[39;00m args[\u001b[38;5;241m0\u001b[39m] \u001b[38;5;129;01min\u001b[39;00m _MAPMODES:\n\u001b[1;32m   3000\u001b[0m     im \u001b[38;5;241m=\u001b[39m new(mode, (\u001b[38;5;241m1\u001b[39m, \u001b[38;5;241m1\u001b[39m))\n\u001b[0;32m-> 3001\u001b[0m     im \u001b[38;5;241m=\u001b[39m \u001b[43mim\u001b[49m\u001b[38;5;241;43m.\u001b[39;49m\u001b[43m_new\u001b[49m\u001b[43m(\u001b[49m\u001b[43mcore\u001b[49m\u001b[38;5;241;43m.\u001b[39;49m\u001b[43mmap_buffer\u001b[49m\u001b[43m(\u001b[49m\u001b[43mdata\u001b[49m\u001b[43m,\u001b[49m\u001b[43m \u001b[49m\u001b[43msize\u001b[49m\u001b[43m,\u001b[49m\u001b[43m \u001b[49m\u001b[43mdecoder_name\u001b[49m\u001b[43m,\u001b[49m\u001b[43m \u001b[49m\u001b[38;5;241;43m0\u001b[39;49m\u001b[43m,\u001b[49m\u001b[43m \u001b[49m\u001b[43margs\u001b[49m\u001b[43m)\u001b[49m\u001b[43m)\u001b[49m\n\u001b[1;32m   3002\u001b[0m     \u001b[38;5;28;01mif\u001b[39;00m mode \u001b[38;5;241m==\u001b[39m \u001b[38;5;124m\"\u001b[39m\u001b[38;5;124mP\u001b[39m\u001b[38;5;124m\"\u001b[39m:\n\u001b[1;32m   3003\u001b[0m         \u001b[38;5;28;01mfrom\u001b[39;00m \u001b[38;5;21;01m.\u001b[39;00m \u001b[38;5;28;01mimport\u001b[39;00m ImagePalette\n",
      "File \u001b[0;32m~/anaconda3/envs/pytorch_p310/lib/python3.10/site-packages/PIL/Image.py:510\u001b[0m, in \u001b[0;36mImage._new\u001b[0;34m(self, im)\u001b[0m\n\u001b[1;32m    508\u001b[0m new\u001b[38;5;241m.\u001b[39mmode \u001b[38;5;241m=\u001b[39m im\u001b[38;5;241m.\u001b[39mmode\n\u001b[1;32m    509\u001b[0m new\u001b[38;5;241m.\u001b[39m_size \u001b[38;5;241m=\u001b[39m im\u001b[38;5;241m.\u001b[39msize\n\u001b[0;32m--> 510\u001b[0m \u001b[38;5;28;01mif\u001b[39;00m im\u001b[38;5;241m.\u001b[39mmode \u001b[38;5;129;01min\u001b[39;00m (\u001b[38;5;124m\"\u001b[39m\u001b[38;5;124mP\u001b[39m\u001b[38;5;124m\"\u001b[39m, \u001b[38;5;124m\"\u001b[39m\u001b[38;5;124mPA\u001b[39m\u001b[38;5;124m\"\u001b[39m):\n\u001b[1;32m    511\u001b[0m     \u001b[38;5;28;01mif\u001b[39;00m \u001b[38;5;28mself\u001b[39m\u001b[38;5;241m.\u001b[39mpalette:\n\u001b[1;32m    512\u001b[0m         new\u001b[38;5;241m.\u001b[39mpalette \u001b[38;5;241m=\u001b[39m \u001b[38;5;28mself\u001b[39m\u001b[38;5;241m.\u001b[39mpalette\u001b[38;5;241m.\u001b[39mcopy()\n",
      "\u001b[0;31mKeyboardInterrupt\u001b[0m: "
     ]
    }
   ],
   "source": [
    "## YOUR CODE HERE ##\n",
    "learning_rate = 0.01\n",
    "momentum = 0.5\n",
    "\n",
    "optimizer = optim.SGD(\n",
    "    model.parameters(),\n",
    "    lr=learning_rate,\n",
    "    momentum=momentum,\n",
    "    weight_decay=0.0005\n",
    "    )\n",
    "\n",
    "epochs = 250\n",
    "steps = 0\n",
    "train_loss = 0\n",
    "print_every = 10\n",
    "\n",
    "train_loss_history = list()\n",
    "valid_loss_history = list()\n",
    "\n",
    "for epoch in range(epochs):\n",
    "    for images, labels in train_loader:\n",
    "        steps += 1\n",
    "\n",
    "        images, labels = images.to(device), labels.to(device)\n",
    "        images.requires_grad = True\n",
    "\n",
    "        optimizer.zero_grad()\n",
    "        logits = model(images)\n",
    "        loss = criterion(logits, labels)\n",
    "\n",
    "        loss.backward()\n",
    "        optimizer.step()\n",
    "\n",
    "        train_loss += loss.item()\n",
    "\n",
    "        train_loss_history.append(train_loss/len(train_loader))\n",
    "\n",
    "        if steps % print_every == 0:\n",
    "            valid_loss = 0\n",
    "            accuracy = 0\n",
    "            model.eval()\n",
    "            with torch.no_grad():\n",
    "                for images, labels in test_loader:\n",
    "                    images, labels = images.to(device), labels.to(device)\n",
    "                    images.requires_grad = True\n",
    "\n",
    "                    logits = model(images)\n",
    "                    batch_loss = criterion(logits, labels)\n",
    "                    valid_loss += batch_loss.item()\n",
    "\n",
    "                    valid_loss_history.append(valid_loss/len(test_loader))\n",
    "\n",
    "                    # Calculate accuracy\n",
    "                    probs = torch.exp(logits)\n",
    "                    _, top_class = probs.topk(1, dim=1)\n",
    "                    equals = top_class == labels.view(*top_class.shape)\n",
    "                    accuracy += torch.mean(equals.type(torch.FloatTensor)).item()\n",
    "\n",
    "            print(f\"Epoch {epoch+1}/{epochs}.. \"\n",
    "                  f\"Training Loss: {train_loss/print_every:.3f}.. \"\n",
    "                  f\"Validation Loss: {valid_loss/len(test_loader):.3f}.. \"\n",
    "                  f\"Accuracy: {accuracy/len(test_loader):.3f}\")\n",
    "            train_loss = 0\n",
    "            model.train()\n",
    "\n",
    "            "
   ]
  },
  {
   "cell_type": "code",
   "execution_count": 37,
   "metadata": {},
   "outputs": [
    {
     "data": {
      "image/png": "[encoded data removed]",
      "text/plain": [
       "<Figure size 640x480 with 1 Axes>"
      ]
     },
     "metadata": {},
     "output_type": "display_data"
    }
   ],
   "source": [
    "# Plot the training and validation loss history\n",
    "plt.plot(train_loss_history, label=\"Training Loss\")\n",
    "plt.plot(valid_loss_history, label=\"Validation Loss\")\n",
    "plt.legend()\n",
    "plt.show()"
   ]
  },
  {
   "cell_type": "code",
   "execution_count": 38,
   "metadata": {},
   "outputs": [
    {
     "name": "stdout",
     "output_type": "stream",
     "text": [
      "Test accuracy: 0.975\n"
     ]
    }
   ],
   "source": [
    "test_loss = 0\n",
    "accuracy = 0\n",
    "\n",
    "with torch.no_grad():\n",
    "    for images, labels in test_loader:\n",
    "        images, labels = images.to(device), labels.to(device)\n",
    "        images.requires_grad = True\n",
    "\n",
    "        logits = model(images)\n",
    "        batch_loss = criterion(logits, labels)\n",
    "\n",
    "        test_loss += batch_loss.item()\n",
    "\n",
    "        # Calculate accuracy\n",
    "        probs = torch.exp(logits)\n",
    "        _, top_class = probs.topk(1, dim=1)\n",
    "        equals = top_class == labels.view(*top_class.shape)\n",
    "        accuracy += torch.mean(equals.type(torch.FloatTensor)).item()\n",
    "\n",
    "print(f\"Test accuracy: {accuracy/len(test_loader):.3f}\")"
   ]
  },
  {
   "cell_type": "markdown",
   "metadata": {},
   "source": [
    "## Saving your model\n",
    "Using `torch.save`, save your model for future loading."
   ]
  },
  {
   "cell_type": "code",
   "execution_count": 39,
   "metadata": {},
   "outputs": [],
   "source": [
    "## YOUR CODE HERE ##\n",
    "torch.save(model,'final_model')"
   ]
  },
  {
   "cell_type": "code",
   "execution_count": null,
   "metadata": {},
   "outputs": [],
   "source": []
  }
 ],
 "metadata": {
  "kernelspec": {
   "display_name": "conda_pytorch_p310",
   "language": "python",
   "name": "conda_pytorch_p310"
  },
  "language_info": {
   "codemirror_mode": {
    "name": "ipython",
    "version": 3
   },
   "file_extension": ".py",
   "mimetype": "text/x-python",
   "name": "python",
   "nbconvert_exporter": "python",
   "pygments_lexer": "ipython3",
   "version": "3.10.12"
  }
 },
 "nbformat": 4,
 "nbformat_minor": 4
}
